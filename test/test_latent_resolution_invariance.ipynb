{
 "cells": [
  {
   "cell_type": "code",
   "execution_count": 94,
   "metadata": {},
   "outputs": [],
   "source": [
    "import b3d \n",
    "from b3d import Pose\n",
    "import jax \n",
    "import jax.numpy as jnp\n",
    "import matplotlib.pyplot as plt\n",
    "import os\n",
    "import trimesh"
   ]
  },
  {
   "cell_type": "code",
   "execution_count": 95,
   "metadata": {},
   "outputs": [
    {
     "name": "stdout",
     "output_type": "stream",
     "text": [
      "1 object(s) in library\n"
     ]
    }
   ],
   "source": [
    "object_library = b3d.MeshLibrary.make_empty_library()\n",
    "key = jax.random.PRNGKey(5)\n",
    "\n",
    "# mug mesh\n",
    "MESH_PATH = os.path.join(b3d.get_root_path(),\"assets/objs/cube.obj\")\n",
    "# MESH_PATH = os.path.join(b3d.get_root_path(),\"assets/shared_data_bucket/ycb_video_models/models/004_sugar_box/textured_simple.obj\")\n",
    "\n",
    "mesh = trimesh.load(MESH_PATH, process=False) \n",
    "\n",
    "vertices = jnp.array(mesh.vertices)  \n",
    "vertices = vertices - vertices.mean(0)\n",
    "faces = jnp.array(mesh.faces, dtype=int)[6:8]\n",
    "# vertex_colors = (jnp.array(mesh.visual.to_color().vertex_colors)[...,:3] / 255.0 ) \n",
    "vertex_colors = vertices * 0.0 + jax.random.uniform(key, (vertices.shape[0], 3))\n",
    "ranges = jnp.array([[0, len(faces)]])\n",
    "object_library.add_object(vertices, faces, vertex_colors)\n",
    "\n",
    "\n",
    "print(f\"{object_library.get_num_objects()} object(s) in library\")\n"
   ]
  },
  {
   "cell_type": "code",
   "execution_count": 96,
   "metadata": {},
   "outputs": [],
   "source": [
    "# setup renderer\n",
    "image_width, image_height, fx, fy, cx, cy, near, far = 100, 100, 200.0, 200.0, 50.0, 50.0, 0.01, 10.0\n",
    "camera_pose = Pose.from_position_and_target(jnp.array([0.6, 0.0, 0.0]), jnp.array([0.0, 0.0, 0.0]))\n",
    "renderer = b3d.Renderer(image_width, image_height, fx, fy, cx, cy, near, far)"
   ]
  },
  {
   "cell_type": "code",
   "execution_count": 97,
   "metadata": {},
   "outputs": [],
   "source": [
    "import numpy as np"
   ]
  },
  {
   "cell_type": "code",
   "execution_count": 98,
   "metadata": {},
   "outputs": [
    {
     "name": "stdout",
     "output_type": "stream",
     "text": [
      "(24, 3) (2, 3) (24, 3)\n"
     ]
    },
    {
     "data": {
      "text/plain": [
       "<matplotlib.image.AxesImage at 0x7f1937647ed0>"
      ]
     },
     "execution_count": 98,
     "metadata": {},
     "output_type": "execute_result"
    },
    {
     "data": {
      "image/png": "[encoded data removed]",
      "text/plain": [
       "<Figure size 640x480 with 1 Axes>"
      ]
     },
     "metadata": {},
     "output_type": "display_data"
    }
   ],
   "source": [
    "camera_pose = Pose.from_position_and_target(\n",
    "    jnp.array([0.0, 5.0, 0.0]),\n",
    "    jnp.array([0.0, 0.0, 0.0]),\n",
    "    up=jnp.array([0,0,1])\n",
    ")\n",
    "rotation_y = b3d.Rot.from_euler('y', jnp.pi/3, degrees=False).quat\n",
    "pose_y = Pose(jnp.array([0,0,0]), rotation_y)\n",
    "rotation_x = b3d.Rot.from_euler('x', jnp.pi/2, degrees=False).quat\n",
    "pose_x = Pose(jnp.array([0,0,0]), rotation_x)\n",
    "rotation_z = b3d.Rot.from_euler('z', jnp.pi/20, degrees=False).quat\n",
    "pose_z = Pose(jnp.array([0,0,0]), rotation_z)\n",
    "pose = pose_x @ pose_y @ pose_z\n",
    "# pose = Pose.identity()\n",
    "obj_id = 0\n",
    "\n",
    "rgb_img, depth = renderer.render_attribute((camera_pose.inv() @ pose)[None,...], \n",
    "                                            vertices, \n",
    "                                            faces.astype(int), \n",
    "                                            object_library.ranges[jnp.array([obj_id])], \n",
    "                                            vertex_colors)\n",
    "print(object_library.vertices.shape, object_library.faces.shape, object_library.attributes.shape)\n",
    "plt.imshow(rgb_img)\n"
   ]
  },
  {
   "cell_type": "code",
   "execution_count": 99,
   "metadata": {},
   "outputs": [],
   "source": [
    "def subdivide(\n",
    "    vertices, faces, face_index=None, vertex_attributes=None, return_index=False\n",
    "):\n",
    "    if face_index is None:\n",
    "        face_mask = np.ones(len(faces), dtype=bool)\n",
    "    else:\n",
    "        face_mask = np.zeros(len(faces), dtype=bool)\n",
    "        face_mask[face_index] = True\n",
    "\n",
    "    # the (c, 3) int array of vertex indices\n",
    "    faces_subset = faces\n",
    "    print(f\"faces={faces.shape}, faces_subset={faces_subset.shape}\")\n",
    "\n",
    "    # find the unique edges of our faces subset\n",
    "    edges = np.sort(trimesh.remesh.faces_to_edges(faces_subset), axis=1)\n",
    "    unique, inverse = trimesh.grouping.unique_rows(edges)\n",
    "    # then only produce one midpoint per unique edge\n",
    "    mid = vertices[edges[unique]].mean(axis=1)\n",
    "    mid_idx = inverse.reshape((-1, 3)) + len(vertices)\n",
    "\n",
    "    # the new faces_subset with correct winding\n",
    "    f = np.column_stack(\n",
    "        [\n",
    "            faces_subset[:, 0],\n",
    "            mid_idx[:, 0],\n",
    "            mid_idx[:, 2],\n",
    "            \n",
    "            mid_idx[:, 0],\n",
    "            faces_subset[:, 1],\n",
    "            mid_idx[:, 1],\n",
    "            \n",
    "            mid_idx[:, 2],\n",
    "            mid_idx[:, 1],\n",
    "            faces_subset[:, 2],\n",
    "            \n",
    "            mid_idx[:, 0],\n",
    "            mid_idx[:, 1],\n",
    "            mid_idx[:, 2],\n",
    "        ]\n",
    "    ).reshape((-1, 3))\n",
    "\n",
    "    # add the 3 new faces_subset per old face all on the end\n",
    "    # by putting all the new faces after all the old faces\n",
    "    # it makes it easier to understand the indexes\n",
    "    new_faces = np.vstack((faces[~face_mask], f))\n",
    "    # stack the new midpoint vertices on the end\n",
    "    new_vertices = np.vstack((vertices, mid))\n",
    "\n",
    "    if vertex_attributes is not None:\n",
    "        attr_tris = vertex_attributes[faces_subset]\n",
    "        attr_mid = np.vstack(\n",
    "            [attr_tris[:, g, :].mean(axis=1) for g in [[0,1],[1,2],[2,0]]]\n",
    "        )\n",
    "        attr_mid = attr_mid[unique]\n",
    "        new_attributes = np.vstack((vertex_attributes, attr_mid))\n",
    "        return new_vertices, new_faces, new_attributes\n",
    "\n",
    "    return new_vertices, new_faces"
   ]
  },
  {
   "cell_type": "code",
   "execution_count": 100,
   "metadata": {},
   "outputs": [
    {
     "name": "stdout",
     "output_type": "stream",
     "text": [
      "faces=(2, 3), faces_subset=(2, 3)\n"
     ]
    },
    {
     "data": {
      "text/plain": [
       "((29, 3), (8, 3), (29, 3))"
      ]
     },
     "execution_count": 100,
     "metadata": {},
     "output_type": "execute_result"
    }
   ],
   "source": [
    "new_v, new_f, new_c = subdivide(vertices, \n",
    "                                faces,\n",
    "                                vertex_attributes=vertex_colors \n",
    "                                        )\n",
    "new_v.shape, new_f.shape, new_c.shape"
   ]
  },
  {
   "cell_type": "code",
   "execution_count": 101,
   "metadata": {},
   "outputs": [
    {
     "name": "stdout",
     "output_type": "stream",
     "text": [
      "(29, 3) (8, 3) (29, 3)\n"
     ]
    },
    {
     "data": {
      "text/plain": [
       "<matplotlib.image.AxesImage at 0x7f19376dcb90>"
      ]
     },
     "execution_count": 101,
     "metadata": {},
     "output_type": "execute_result"
    },
    {
     "data": {
      "image/png": "[encoded data removed]",
      "text/plain": [
       "<Figure size 640x480 with 1 Axes>"
      ]
     },
     "metadata": {},
     "output_type": "display_data"
    }
   ],
   "source": [
    "rgb_img_subdivided, depth = renderer.render_attribute((camera_pose.inv() @ pose)[None,...],\n",
    "                                            new_v, \n",
    "                                            new_f, \n",
    "                                            jnp.array([[0, new_f.shape[0]]]), \n",
    "                                            new_c)\n",
    "print(new_v.shape, new_f.shape, new_c.shape)\n",
    "plt.imshow(rgb_img_subdivided)"
   ]
  },
  {
   "cell_type": "code",
   "execution_count": 102,
   "metadata": {},
   "outputs": [
    {
     "data": {
      "text/plain": [
       "<matplotlib.image.AxesImage at 0x7f19375110d0>"
      ]
     },
     "execution_count": 102,
     "metadata": {},
     "output_type": "execute_result"
    },
    {
     "data": {
      "image/png": "[encoded data removed]",
      "text/plain": [
       "<Figure size 640x480 with 1 Axes>"
      ]
     },
     "metadata": {},
     "output_type": "display_data"
    }
   ],
   "source": [
    "plt.imshow(rgb_img)"
   ]
  },
  {
   "cell_type": "code",
   "execution_count": null,
   "metadata": {},
   "outputs": [],
   "source": []
  },
  {
   "cell_type": "code",
   "execution_count": null,
   "metadata": {},
   "outputs": [],
   "source": []
  },
  {
   "cell_type": "code",
   "execution_count": null,
   "metadata": {},
   "outputs": [],
   "source": []
  },
  {
   "cell_type": "code",
   "execution_count": null,
   "metadata": {},
   "outputs": [],
   "source": []
  },
  {
   "cell_type": "code",
   "execution_count": null,
   "metadata": {},
   "outputs": [],
   "source": []
  },
  {
   "cell_type": "code",
   "execution_count": null,
   "metadata": {},
   "outputs": [],
   "source": []
  },
  {
   "cell_type": "code",
   "execution_count": null,
   "metadata": {},
   "outputs": [],
   "source": []
  },
  {
   "cell_type": "code",
   "execution_count": null,
   "metadata": {},
   "outputs": [],
   "source": []
  }
 ],
 "metadata": {
  "kernelspec": {
   "display_name": "b3d",
   "language": "python",
   "name": "python3"
  },
  "language_info": {
   "codemirror_mode": {
    "name": "ipython",
    "version": 3
   },
   "file_extension": ".py",
   "mimetype": "text/x-python",
   "name": "python",
   "nbconvert_exporter": "python",
   "pygments_lexer": "ipython3",
   "version": "3.11.8"
  }
 },
 "nbformat": 4,
 "nbformat_minor": 2
}
