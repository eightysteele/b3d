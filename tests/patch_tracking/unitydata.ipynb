{
 "cells": [
  {
   "cell_type": "code",
   "execution_count": 1,
   "metadata": {},
   "outputs": [],
   "source": [
    "%load_ext autoreload\n",
    "%autoreload 2"
   ]
  },
  {
   "cell_type": "code",
   "execution_count": 2,
   "metadata": {},
   "outputs": [],
   "source": [
    "import b3d\n",
    "import sys\n",
    "sys.path.append(b3d.get_root_path())"
   ]
  },
  {
   "cell_type": "code",
   "execution_count": 3,
   "metadata": {},
   "outputs": [],
   "source": [
    "from tests.patch_tracking.task import PatchTrackingTask\n",
    "import rerun as rr\n",
    "import os"
   ]
  },
  {
   "cell_type": "code",
   "execution_count": 7,
   "metadata": {},
   "outputs": [
    {
     "name": "stdout",
     "output_type": "stream",
     "text": [
      "Loading /home/georgematheos/b3d/assets/shared_data_bucket/input_data/unity/keypoints/indoorplant/plantRoomPanning2_30fps_lit_bg_800p.input.npz\n",
      "Loading /home/georgematheos/b3d/assets/shared_data_bucket/input_data/unity/keypoints/indoorplant/plantRoomLookingThrough_30fps_lit_bg_800p.input.npz\n",
      "Found depth channel in /home/georgematheos/b3d/assets/shared_data_bucket/input_data/unity/keypoints/indoorplant/plantRoomLookingThrough_30fps_lit_bg_800p.input.npz\n",
      "Loading /home/georgematheos/b3d/assets/shared_data_bucket/input_data/unity/keypoints/indoorplant/plantRoomPanning1_30fps_lit_bg_200p.input.npz\n",
      "Loading /home/georgematheos/b3d/assets/shared_data_bucket/input_data/unity/keypoints/indoorplant/plantRoomPanning2_30fps_lit_bg_200p.input.npz\n",
      "Loading /home/georgematheos/b3d/assets/shared_data_bucket/input_data/unity/keypoints/indoorplant/fallingBook_dynamicCamera_60fps_lit_bg_800p.input.npz\n",
      "Found depth channel in /home/georgematheos/b3d/assets/shared_data_bucket/input_data/unity/keypoints/indoorplant/fallingBook_dynamicCamera_60fps_lit_bg_800p.input.npz\n",
      "Loading /home/georgematheos/b3d/assets/shared_data_bucket/input_data/unity/keypoints/indoorplant/slidingPiledBooks_60fps_lit_bg_800p.input.npz\n",
      "Found depth channel in /home/georgematheos/b3d/assets/shared_data_bucket/input_data/unity/keypoints/indoorplant/slidingPiledBooks_60fps_lit_bg_800p.input.npz\n",
      "Loading /home/georgematheos/b3d/assets/shared_data_bucket/input_data/unity/keypoints/indoorplant/plantRoomPanning1_sync_30fps_lit_bg_200p.input.npz\n",
      "Loading /home/georgematheos/b3d/assets/shared_data_bucket/input_data/unity/keypoints/indoorplant/fallingBook_60fps_lit_bg_800p.input.npz\n",
      "Found depth channel in /home/georgematheos/b3d/assets/shared_data_bucket/input_data/unity/keypoints/indoorplant/fallingBook_60fps_lit_bg_800p.input.npz\n",
      "Loading /home/georgematheos/b3d/assets/shared_data_bucket/input_data/unity/keypoints/indoorplant/plantFullRoom_30fps_lit_bg_800p.input.npz\n",
      "Found depth channel in /home/georgematheos/b3d/assets/shared_data_bucket/input_data/unity/keypoints/indoorplant/plantFullRoom_30fps_lit_bg_800p.input.npz\n",
      "Loading /home/georgematheos/b3d/assets/shared_data_bucket/input_data/unity/keypoints/indoorplant/slidingBooks_60fps_lit_bg_800p.input.npz\n",
      "Found depth channel in /home/georgematheos/b3d/assets/shared_data_bucket/input_data/unity/keypoints/indoorplant/slidingBooks_60fps_lit_bg_800p.input.npz\n",
      "Loading /home/georgematheos/b3d/assets/shared_data_bucket/input_data/unity/keypoints/indoorplant/plantRoomPanning1_30fps_lit_bg_800p.input.npz\n",
      "Loading /home/georgematheos/b3d/assets/shared_data_bucket/input_data/unity/keypoints/indoorplant/fallingBook_dynamicCamera_homogenousDensity_60fps_lit_bg_800p.input.npz\n",
      "Found depth channel in /home/georgematheos/b3d/assets/shared_data_bucket/input_data/unity/keypoints/indoorplant/fallingBook_dynamicCamera_homogenousDensity_60fps_lit_bg_800p.input.npz\n"
     ]
    }
   ],
   "source": [
    "# This cell can be used to discover which files have depth\n",
    "\n",
    "# list all the npz files in shared_data_bucket/input_data/unity/keypoints/indoorplant/\n",
    "rootpath = os.path.join(\n",
    "    b3d.get_assets_path(),\n",
    "    'shared_data_bucket/input_data/unity/keypoints/indoorplant/'\n",
    ")\n",
    "npz_files = [os.path.join(rootpath, f) for f in os.listdir(rootpath) if f.endswith('.npz')]\n",
    "\n",
    "files_with_depth = []\n",
    "ftds = []\n",
    "for file in npz_files:\n",
    "    print(f\"Loading {file}\")\n",
    "    ftd = b3d.io.FeatureTrackData.load(file)\n",
    "    if ftd.has_depth_channel():\n",
    "        print(f\"Found depth channel in {file}\")\n",
    "        files_with_depth.append(file)\n",
    "        ftds.append(ftd)"
   ]
  },
  {
   "cell_type": "code",
   "execution_count": 8,
   "metadata": {},
   "outputs": [],
   "source": [
    "filenames_with_depth = [\n",
    "    \"plantRoomLookingThrough_30fps_lit_bg_800p.input.npz\",\n",
    "    \"fallingBook_dynamicCamera_60fps_lit_bg_800p.input.npz\",\n",
    "    \"slidingPiledBooks_60fps_lit_bg_800p.input.npz\",\n",
    "    \"fallingBook_60fps_lit_bg_800p.input.npz\",\n",
    "    \"plantFullRoom_30fps_lit_bg_800p.input.npz\",\n",
    "    \"slidingBooks_60fps_lit_bg_800p.input.npz\",\n",
    "    \"fallingBook_dynamicCamera_homogenousDensity_60fps_lit_bg_800p.input.npz\"\n",
    "]\n",
    "\n",
    "filename_starttime_pairs = [\n",
    "    (\"plantRoomLookingThrough_30fps_lit_bg_800p.input.npz\", 0),\n",
    "    (\"slidingBooks_60fps_lit_bg_800p.input.npz\", 21),\n",
    "    (\"slidingPiledBooks_60fps_lit_bg_800p.input.npz\", 21)\n",
    "]"
   ]
  },
  {
   "cell_type": "code",
   "execution_count": 4,
   "metadata": {},
   "outputs": [],
   "source": [
    "path = os.path.join(\n",
    "    b3d.get_assets_path(),\n",
    "    \"shared_data_bucket/input_data/unity/keypoints/indoorplant/slidingBooks_60fps_lit_bg_800p.input.npz\"\n",
    ")\n",
    "ftd = b3d.io.FeatureTrackData.load(path)"
   ]
  },
  {
   "cell_type": "code",
   "execution_count": 6,
   "metadata": {},
   "outputs": [
    {
     "data": {
      "text/plain": [
       "\n",
       "FeatureTrackData:\n",
       "    Timesteps: 109\n",
       "    Num Keypoints: 8823\n",
       "    Sensor shape (width x height): 800 x 800"
      ]
     },
     "execution_count": 6,
     "metadata": {},
     "output_type": "execute_result"
    }
   ],
   "source": [
    "ftd.slice_time(start_frame=21)"
   ]
  },
  {
   "cell_type": "code",
   "execution_count": 9,
   "metadata": {},
   "outputs": [],
   "source": [
    "task = PatchTrackingTask.task_for_sliding_book_scene(n_frames=6)"
   ]
  },
  {
   "cell_type": "code",
   "execution_count": 10,
   "metadata": {},
   "outputs": [],
   "source": [
    "task.visualize_task()"
   ]
  },
  {
   "cell_type": "code",
   "execution_count": 197,
   "metadata": {},
   "outputs": [],
   "source": [
    "# from tests.patch_tracking.solver import AdamPatchTracker"
   ]
  },
  {
   "cell_type": "code",
   "execution_count": 11,
   "metadata": {},
   "outputs": [],
   "source": [
    "# solver = AdamPatchTracker()\n",
    "# solution = solver.solve(task.get_task_specification())"
   ]
  },
  {
   "cell_type": "code",
   "execution_count": null,
   "metadata": {},
   "outputs": [],
   "source": []
  }
 ],
 "metadata": {
  "kernelspec": {
   "display_name": "b3d",
   "language": "python",
   "name": "python3"
  },
  "language_info": {
   "codemirror_mode": {
    "name": "ipython",
    "version": 3
   },
   "file_extension": ".py",
   "mimetype": "text/x-python",
   "name": "python",
   "nbconvert_exporter": "python",
   "pygments_lexer": "ipython3",
   "version": "3.10.14"
  }
 },
 "nbformat": 4,
 "nbformat_minor": 2
}
