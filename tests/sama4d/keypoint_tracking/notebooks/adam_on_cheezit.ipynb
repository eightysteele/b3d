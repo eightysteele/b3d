{
 "cells": [
  {
   "cell_type": "code",
   "execution_count": 1,
   "metadata": {},
   "outputs": [],
   "source": [
    "%load_ext autoreload\n",
    "%autoreload 2"
   ]
  },
  {
   "cell_type": "code",
   "execution_count": 3,
   "metadata": {},
   "outputs": [],
   "source": [
    "import b3d\n",
    "import sys\n",
    "sys.path.append(b3d.get_root_path())\n",
    "\n",
    "from tests.sama4d.keypoint_tracking.keypoint_tracking_task import KeypointTrackingTask\n",
    "from tests.sama4d.data_curation import get_cheezitbox_scene_loader\n",
    "import rerun as rr"
   ]
  },
  {
   "cell_type": "code",
   "execution_count": 4,
   "metadata": {},
   "outputs": [],
   "source": [
    "scene_spec = get_cheezitbox_scene_loader()\n",
    "scene = scene_spec[\"feature_track_data_loader\"]()"
   ]
  },
  {
   "cell_type": "code",
   "execution_count": 5,
   "metadata": {},
   "outputs": [],
   "source": [
    "task = KeypointTrackingTask.task_from_feature_track_data(scene, n_frames=5)"
   ]
  },
  {
   "cell_type": "code",
   "execution_count": 10,
   "metadata": {},
   "outputs": [],
   "source": [
    "rr.init(f'task--{scene_spec[\"scene_name\"]}-2')\n",
    "rr.connect(\"127.0.0.1:8812\")\n",
    "task.visualize_task()"
   ]
  },
  {
   "cell_type": "code",
   "execution_count": 12,
   "metadata": {},
   "outputs": [],
   "source": [
    "from tests.sama4d.keypoint_tracking.patch_tracking_solver import AdamPatchTracker\n",
    "task_spec = task.get_task_specification()\n",
    "solver = AdamPatchTracker()\n",
    "solution = solver.solve(task_spec)"
   ]
  },
  {
   "cell_type": "code",
   "execution_count": 16,
   "metadata": {},
   "outputs": [],
   "source": [
    "solver.visualize_solver_state(task_spec)"
   ]
  },
  {
   "cell_type": "code",
   "execution_count": 9,
   "metadata": {},
   "outputs": [
    {
     "data": {
      "text/plain": [
       "Pose(position=Array([[0.15, 0.15, 0.  ],\n",
       "       [0.15, 0.15, 0.  ],\n",
       "       [0.15, 0.15, 0.  ],\n",
       "       [0.15, 0.15, 0.  ],\n",
       "       [0.15, 0.15, 0.  ],\n",
       "       [0.15, 0.15, 0.  ],\n",
       "       [0.15, 0.15, 0.  ],\n",
       "       [0.15, 0.15, 0.  ],\n",
       "       [0.15, 0.15, 0.  ],\n",
       "       [0.15, 0.15, 0.  ],\n",
       "       [0.15, 0.15, 0.  ],\n",
       "       [0.15, 0.15, 0.  ],\n",
       "       [0.15, 0.15, 0.  ],\n",
       "       [0.15, 0.15, 0.  ],\n",
       "       [0.15, 0.15, 0.  ],\n",
       "       [0.15, 0.15, 0.  ],\n",
       "       [0.15, 0.15, 0.  ],\n",
       "       [0.15, 0.15, 0.  ],\n",
       "       [0.15, 0.15, 0.  ],\n",
       "       [0.15, 0.15, 0.  ],\n",
       "       [0.15, 0.15, 0.  ],\n",
       "       [0.15, 0.15, 0.  ],\n",
       "       [0.15, 0.15, 0.  ],\n",
       "       [0.15, 0.15, 0.  ],\n",
       "       [0.15, 0.15, 0.  ],\n",
       "       [0.15, 0.15, 0.  ],\n",
       "       [0.15, 0.15, 0.  ],\n",
       "       [0.15, 0.15, 0.  ],\n",
       "       [0.15, 0.15, 0.  ],\n",
       "       [0.15, 0.15, 0.  ]], dtype=float32), quaternion=Array([[ 0.27059808,  0.65328157, -0.65328157, -0.27059808],\n",
       "       [ 0.27059808,  0.65328157, -0.65328157, -0.27059808],\n",
       "       [ 0.27059808,  0.65328157, -0.65328157, -0.27059808],\n",
       "       [ 0.27059808,  0.65328157, -0.65328157, -0.27059808],\n",
       "       [ 0.27059808,  0.65328157, -0.65328157, -0.27059808],\n",
       "       [ 0.27059808,  0.65328157, -0.65328157, -0.27059808],\n",
       "       [ 0.27059808,  0.65328157, -0.65328157, -0.27059808],\n",
       "       [ 0.27059808,  0.65328157, -0.65328157, -0.27059808],\n",
       "       [ 0.27059808,  0.65328157, -0.65328157, -0.27059808],\n",
       "       [ 0.27059808,  0.65328157, -0.65328157, -0.27059808],\n",
       "       [ 0.27059808,  0.65328157, -0.65328157, -0.27059808],\n",
       "       [ 0.27059808,  0.65328157, -0.65328157, -0.27059808],\n",
       "       [ 0.27059808,  0.65328157, -0.65328157, -0.27059808],\n",
       "       [ 0.27059808,  0.65328157, -0.65328157, -0.27059808],\n",
       "       [ 0.27059808,  0.65328157, -0.65328157, -0.27059808],\n",
       "       [ 0.27059808,  0.65328157, -0.65328157, -0.27059808],\n",
       "       [ 0.27059808,  0.65328157, -0.65328157, -0.27059808],\n",
       "       [ 0.27059808,  0.65328157, -0.65328157, -0.27059808],\n",
       "       [ 0.27059808,  0.65328157, -0.65328157, -0.27059808],\n",
       "       [ 0.27059808,  0.65328157, -0.65328157, -0.27059808],\n",
       "       [ 0.27059808,  0.65328157, -0.65328157, -0.27059808],\n",
       "       [ 0.27059808,  0.65328157, -0.65328157, -0.27059808],\n",
       "       [ 0.27059808,  0.65328157, -0.65328157, -0.27059808],\n",
       "       [ 0.27059808,  0.65328157, -0.65328157, -0.27059808],\n",
       "       [ 0.27059808,  0.65328157, -0.65328157, -0.27059808],\n",
       "       [ 0.27059808,  0.65328157, -0.65328157, -0.27059808],\n",
       "       [ 0.27059808,  0.65328157, -0.65328157, -0.27059808],\n",
       "       [ 0.27059808,  0.65328157, -0.65328157, -0.27059808],\n",
       "       [ 0.27059808,  0.65328157, -0.65328157, -0.27059808],\n",
       "       [ 0.27059808,  0.65328157, -0.65328157, -0.27059808]],      dtype=float32))"
      ]
     },
     "execution_count": 9,
     "metadata": {},
     "output_type": "execute_result"
    }
   ],
   "source": [
    "task_spec[\"Xs_WC\"]"
   ]
  },
  {
   "cell_type": "code",
   "execution_count": 18,
   "metadata": {},
   "outputs": [],
   "source": [
    "pos0_C = solver.Xs_CP_init.pos\n",
    "quat0_C = solver.Xs_CP_init.xyzw\n",
    "\n",
    "trace = solver.get_trace(pos0_C, quat0_C, task_spec[\"video\"][0])"
   ]
  },
  {
   "cell_type": "code",
   "execution_count": 24,
   "metadata": {},
   "outputs": [
    {
     "data": {
      "text/plain": [
       "Array([[-0.05000212, -0.06619699,  0.135087  ],\n",
       "       [-0.02809205, -0.07648577,  0.15603575],\n",
       "       [ 0.00310154, -0.07616813,  0.15538305],\n",
       "       [ 0.03404703, -0.07586545,  0.1547727 ],\n",
       "       [-0.06710628, -0.05293118,  0.17776427],\n",
       "       [-0.03317447, -0.05524367,  0.18426888],\n",
       "       [ 0.00367437, -0.05510603,  0.18383041],\n",
       "       [ 0.04041119, -0.05506616,  0.18369837],\n",
       "       [-0.07099946, -0.01869497,  0.1868448 ],\n",
       "       [-0.03363629, -0.01869988,  0.18686473],\n",
       "       [ 0.00372244, -0.01865589,  0.18640634],\n",
       "       [ 0.04086833, -0.01859571,  0.18578853],\n",
       "       [-0.06997868,  0.01839572,  0.18411441],\n",
       "       [-0.03291819,  0.01825263,  0.18284887],\n",
       "       [ 0.00364428,  0.01820436,  0.18237554],\n",
       "       [ 0.04012314,  0.01821066,  0.18236308],\n",
       "       [-0.06949101,  0.05482639,  0.18278907],\n",
       "       [-0.03235891,  0.05388781,  0.1796875 ],\n",
       "       [ 0.00358169,  0.05370409,  0.17908461],\n",
       "       [ 0.03963393,  0.05400615,  0.18006866],\n",
       "       [-0.06887942,  0.09054627,  0.18112743],\n",
       "       [-0.03211041,  0.08919852,  0.17835718],\n",
       "       [ 0.00355701,  0.08899175,  0.17793117],\n",
       "       [ 0.03928142,  0.08924586,  0.17849171]], dtype=float32)"
      ]
     },
     "execution_count": 24,
     "metadata": {},
     "output_type": "execute_result"
    }
   ],
   "source": [
    "import jax\n",
    "Xs_CO = trace[\"poses\"].inner.value\n",
    "patch_centers_C = jax.vmap(lambda X_WO: X_WO.pos)(Xs_CO)\n",
    "patch_centers_C"
   ]
  },
  {
   "cell_type": "code",
   "execution_count": 34,
   "metadata": {},
   "outputs": [],
   "source": [
    "import jax.numpy as jnp\n",
    "import numpy as np\n",
    "rr.log(\"tmp\", rr.Points3D(positions=np.zeros((3)), radii=0.02), timeless=True)"
   ]
  },
  {
   "cell_type": "code",
   "execution_count": 26,
   "metadata": {},
   "outputs": [
    {
     "data": {
      "text/plain": [
       "(24, 3)"
      ]
     },
     "execution_count": 26,
     "metadata": {},
     "output_type": "execute_result"
    }
   ],
   "source": [
    "patch_centers_C.shape"
   ]
  },
  {
   "cell_type": "code",
   "execution_count": null,
   "metadata": {},
   "outputs": [],
   "source": []
  }
 ],
 "metadata": {
  "kernelspec": {
   "display_name": "b3d",
   "language": "python",
   "name": "python3"
  },
  "language_info": {
   "codemirror_mode": {
    "name": "ipython",
    "version": 3
   },
   "file_extension": ".py",
   "mimetype": "text/x-python",
   "name": "python",
   "nbconvert_exporter": "python",
   "pygments_lexer": "ipython3",
   "version": "3.10.14"
  }
 },
 "nbformat": 4,
 "nbformat_minor": 2
}
