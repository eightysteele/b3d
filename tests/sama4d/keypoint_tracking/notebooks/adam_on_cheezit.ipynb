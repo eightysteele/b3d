{
 "cells": [
  {
   "cell_type": "code",
   "execution_count": 1,
   "metadata": {},
   "outputs": [],
   "source": [
    "%load_ext autoreload\n",
    "%autoreload 2"
   ]
  },
  {
   "cell_type": "code",
   "execution_count": 14,
   "metadata": {},
   "outputs": [],
   "source": [
    "import b3d\n",
    "import sys\n",
    "sys.path.append(b3d.get_root_path())\n",
    "\n",
    "from tests.sama4d.keypoint_tracking.keypoint_tracking_task import KeypointTrackingTask\n",
    "from tests.sama4d.data_curation import get_cheezitbox_scene_loader\n",
    "import rerun as rr"
   ]
  },
  {
   "cell_type": "code",
   "execution_count": 44,
   "metadata": {},
   "outputs": [],
   "source": [
    "scene_spec = get_cheezitbox_scene_loader()\n",
    "scene = scene_spec[\"feature_track_data_loader\"]()"
   ]
  },
  {
   "cell_type": "code",
   "execution_count": 49,
   "metadata": {},
   "outputs": [],
   "source": [
    "task = KeypointTrackingTask.task_from_feature_track_data(scene, n_frames=6)"
   ]
  },
  {
   "cell_type": "code",
   "execution_count": 51,
   "metadata": {},
   "outputs": [],
   "source": [
    "rr.init(f'task--{scene_spec[\"scene_name\"]}-7')\n",
    "rr.connect(\"127.0.0.1:8812\")\n",
    "task.visualize_task()"
   ]
  },
  {
   "cell_type": "code",
   "execution_count": 54,
   "metadata": {},
   "outputs": [],
   "source": [
    "from tests.sama4d.keypoint_tracking.patch_tracking_solver import AdamPatchTracker\n",
    "task_spec = task.get_task_specification()\n",
    "solver = AdamPatchTracker()\n",
    "solution = solver.solve(task_spec)"
   ]
  },
  {
   "cell_type": "code",
   "execution_count": 55,
   "metadata": {},
   "outputs": [],
   "source": [
    "solver.visualize_solver_state(task_spec)"
   ]
  },
  {
   "cell_type": "code",
   "execution_count": null,
   "metadata": {},
   "outputs": [],
   "source": []
  },
  {
   "cell_type": "code",
   "execution_count": 14,
   "metadata": {},
   "outputs": [],
   "source": [
    "import jax\n",
    "import jax.numpy as jnp"
   ]
  },
  {
   "cell_type": "code",
   "execution_count": 11,
   "metadata": {},
   "outputs": [],
   "source": [
    "rgbds = task_spec[\"video\"]\n",
    "Xs_WC = task_spec[\"Xs_WC\"]\n",
    "X_WC = b3d.Pose.identity()\n",
    "centers = task_spec[\"initial_keypoint_positions_2D\"]\n",
    "r = task_spec[\"renderer\"]\n",
    "fx, fy, cx, cy = r.fx, r.fy, r.cx, r.cy\n",
    "depths = rgbds[..., 3]\n",
    "xyzs_C = b3d.utils.xyz_from_depth_vectorized(depths, fx, fy, cx, cy)\n",
    "xyzs_W = X_WC.apply(xyzs_C)"
   ]
  },
  {
   "cell_type": "code",
   "execution_count": 12,
   "metadata": {},
   "outputs": [],
   "source": [
    "pairwise_euclidean_dists = jnp.linalg.norm(centers[:, None] - centers[None], axis=-1)\n",
    "min_nonzero_dist = jnp.min(jnp.where(pairwise_euclidean_dists != 0, pairwise_euclidean_dists, jnp.inf))\n",
    "del_pix = jnp.astype(jnp.ceil(min_nonzero_dist / (2 * jnp.sqrt(2))), int)\n",
    "del_pix = max(del_pix, 2)"
   ]
  },
  {
   "cell_type": "code",
   "execution_count": 20,
   "metadata": {},
   "outputs": [
    {
     "data": {
      "text/plain": [
       "Array(36, dtype=int32)"
      ]
     },
     "execution_count": 20,
     "metadata": {},
     "output_type": "execute_result"
    }
   ],
   "source": [
    "center = centers[0]\n",
    "center = jnp.astype(jnp.round(center), int)\n",
    "center_x, center_y = center[0], center[1]\n",
    "patch_points_C = jax.lax.dynamic_slice(xyzs_C[0], (center_x-del_pix,center_y-del_pix,0), (2*del_pix-1,2*del_pix-1,3)).reshape(-1,3)\n",
    "num_nonzero = jnp.sum(jnp.where(patch_points_C[...,2] != 0, 1, 0))\n",
    "mean_position_nonzero = jnp.sum(patch_points_C, axis=0) / num_nonzero"
   ]
  },
  {
   "cell_type": "code",
   "execution_count": null,
   "metadata": {},
   "outputs": [],
   "source": []
  },
  {
   "cell_type": "code",
   "execution_count": null,
   "metadata": {},
   "outputs": [],
   "source": [
    "middle_index = patch_points_C.shape[0] // 2 + 1\n",
    "middle_point = patch_points_C[middle_index]\n",
    "patch_points_C_nonzero = jnp.where(\n",
    "    (patch_points_C[..., 2] != 0)[:, None],\n",
    "    patch_points_C,\n",
    "    middle_point\n",
    ")\n",
    "patch_points_C_nonzero"
   ]
  }
 ],
 "metadata": {
  "kernelspec": {
   "display_name": "b3d",
   "language": "python",
   "name": "python3"
  },
  "language_info": {
   "codemirror_mode": {
    "name": "ipython",
    "version": 3
   },
   "file_extension": ".py",
   "mimetype": "text/x-python",
   "name": "python",
   "nbconvert_exporter": "python",
   "pygments_lexer": "ipython3",
   "version": "3.10.14"
  }
 },
 "nbformat": 4,
 "nbformat_minor": 2
}
