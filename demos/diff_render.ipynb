{
 "cells": [
  {
   "cell_type": "code",
   "execution_count": 127,
   "metadata": {},
   "outputs": [],
   "source": [
    "import jax.numpy as jnp\n",
    "import jax\n",
    "import matplotlib.pyplot as plt\n",
    "import numpy as np\n",
    "import os\n",
    "import trimesh\n",
    "import b3d\n",
    "from jax.scipy.spatial.transform import Rotation as Rot\n",
    "from b3d import Pose\n",
    "import rerun as rr\n",
    "import functools\n",
    "\n",
    "rr.init(\"demo22.py\")\n",
    "rr.connect(\"127.0.0.1:8812\")\n",
    "\n",
    "image_width=100\n",
    "image_height=100\n",
    "fx=50.0\n",
    "fy=50.0\n",
    "cx=50.0\n",
    "cy=50.0\n",
    "near=0.001\n",
    "far=16.0\n",
    "renderer = b3d.Renderer(\n",
    "    image_width, image_height, fx, fy, cx, cy, near, far\n",
    ")\n",
    "\n",
    "## Render color\n",
    "from pathlib import Path\n",
    "mesh_path = Path(b3d.__file__).parents[1] / \"assets/006_mustard_bottle/textured_simple.obj\"\n",
    "mesh = trimesh.load(mesh_path)\n",
    "\n",
    "vertices = jnp.array(mesh.vertices) * 20.0\n",
    "vertices = vertices - vertices.mean(0)\n",
    "faces = jnp.array(mesh.faces)\n",
    "vertex_colors = jnp.array(mesh.visual.to_color().vertex_colors)[...,:3] / 255.0\n",
    "ranges = jnp.array([[0, len(faces)]])\n",
    "\n",
    "# vertices = jnp.array([\n",
    "#     [0.0, 0.0, 0.0],\n",
    "#     [1.0, 0.0, 0.0],\n",
    "#     [0.0, 1.0, 0.0],\n",
    "# ])\n",
    "# faces = jnp.array([\n",
    "#     [0, 1, 2]\n",
    "# ])\n",
    "# ranges = jnp.array([[0, 1]])\n",
    "# vertex_colors = jnp.array([\n",
    "#     [1.0, 0.0, 0.0],\n",
    "#     [1.0, 0.0, 0.0],\n",
    "#     [1.0, 0.0, 0.0],\n",
    "# ])\n",
    "\n",
    "gt_pose = Pose.from_position_and_target(\n",
    "    jnp.array([1.5, 1.5, 0.0]),\n",
    "    jnp.zeros(3)\n",
    ").inv()\n",
    "\n",
    "target_image, depth = renderer.render_attribute(gt_pose.as_matrix()[None,...], vertices, faces, ranges, vertex_colors)\n",
    "rr.log(\"/rgb\", rr.Image(target_image), timeless=True)\n"
   ]
  },
  {
   "cell_type": "code",
   "execution_count": 128,
   "metadata": {},
   "outputs": [
    {
     "data": {
      "text/plain": [
       "Array(0., dtype=float32)"
      ]
     },
     "execution_count": 128,
     "metadata": {},
     "output_type": "execute_result"
    }
   ],
   "source": [
    "jnp.linalg.norm(jnp.zeros(3))"
   ]
  },
  {
   "cell_type": "code",
   "execution_count": 129,
   "metadata": {},
   "outputs": [
    {
     "data": {
      "text/plain": [
       "<function jax._src.numpy.reductions.max(a: 'ArrayLike', axis: 'Axis' = None, out: 'None' = None, keepdims: 'bool' = False, initial: 'ArrayLike | None' = None, where: 'ArrayLike | None' = None) -> 'Array'>"
      ]
     },
     "execution_count": 129,
     "metadata": {},
     "output_type": "execute_result"
    }
   ],
   "source": [
    "jnp.max"
   ]
  },
  {
   "cell_type": "code",
   "execution_count": 131,
   "metadata": {},
   "outputs": [
    {
     "name": "stdout",
     "output_type": "stream",
     "text": [
      "[0.5773518 0.5773518 0.5773518]\n",
      "[0. 0. 0.]\n"
     ]
    }
   ],
   "source": [
    "print(jax.grad(lambda p: jnp.linalg.norm(p + 1e-20))(jnp.zeros(3)))\n",
    "\n",
    "@functools.partial(\n",
    "    jnp.vectorize,\n",
    "    signature=\"(3)->()\",\n",
    "    excluded=(\n",
    "        1,\n",
    "    ),\n",
    ")\n",
    "def point_to_line_distance(point, vector):\n",
    "    unit_vector = vector / jnp.linalg.norm(vector)\n",
    "    return jnp.linalg.norm(point - (1e-5 + jnp.dot(point, unit_vector)) * unit_vector) + 1e-5\n",
    "\n",
    "print(jax.grad(lambda p: 1.0 /point_to_line_distance(p, jnp.ones(3)).sum())(jnp.zeros(3)))"
   ]
  },
  {
   "cell_type": "code",
   "execution_count": 167,
   "metadata": {},
   "outputs": [],
   "source": [
    "\n",
    "def render(pose):\n",
    "    width = 3\n",
    "    _, _, triangle_ids, _ = renderer.render(pose.as_matrix()[None,...], vertices, faces, ranges)\n",
    "    vertices_transformed_by_pose = pose.apply(vertices)\n",
    "    triangle_ids_padded = jnp.pad(triangle_ids, pad_width=[(width, width)])\n",
    "    ijs = jnp.moveaxis(jnp.mgrid[: image_height, : image_width], 0, -1)\n",
    "    ijs_padded  = jnp.pad(ijs, pad_width=[(width, width),(width, width), (0,0)])\n",
    "\n",
    "    @functools.partial(\n",
    "        jnp.vectorize,\n",
    "        signature=\"(2)->(3),(m,m),(m,m)\",\n",
    "    )\n",
    "    def get_mixed_color(ij):\n",
    "        i,j = ij\n",
    "        triangle_ids_patch = jax.lax.dynamic_slice(\n",
    "            triangle_ids_padded,\n",
    "            jnp.array([i,j]),\n",
    "            (2*width+1, 2*width+1),\n",
    "        )\n",
    "        ijs_patch = jax.lax.dynamic_slice(\n",
    "            ijs_padded,\n",
    "            jnp.array([i,j, 0]),\n",
    "            (2*width+1, 2*width+1,2),\n",
    "        )\n",
    "\n",
    "        pixel_vectors = jnp.concatenate([(ijs_patch - jnp.array([cx, cy])) / jnp.array([fx, fy]), jnp.ones_like(ijs_patch[...,0:1])], axis=-1)\n",
    "\n",
    "        pixel_vector = pixel_vectors[width, width]\n",
    "\n",
    "        center_points_of_triangle =(\n",
    "            vertices_transformed_by_pose[faces[triangle_ids_patch-1]]\n",
    "        ).mean(-2) * (triangle_ids_patch > 0)[...,None] + (1.0 - (triangle_ids_patch > 0)[...,None]) * pixel_vectors * 20.0\n",
    "\n",
    "        distances = point_to_line_distance(center_points_of_triangle, pixel_vector) + 1e-5\n",
    "        # return distances\n",
    "        weights = 1 / (distances + 1e-5)\n",
    "        # return weights\n",
    "        normalized_weights = weights / weights.sum()\n",
    "        \n",
    "        colors_patch = (vertex_colors[faces[triangle_ids_patch-1]] * (triangle_ids_patch > 0)[...,None,None]).mean(-2)\n",
    "        final_color = (colors_patch * normalized_weights[...,None]).sum(0).sum(0)\n",
    "        return jnp.clip(final_color, 0.0, 1.0), triangle_ids_patch, normalized_weights\n",
    "    mixed_image, triangle_ids_patch, normalized_weights = get_mixed_color(ijs)\n",
    "    return mixed_image, triangle_ids_patch, normalized_weights\n",
    "render_jit = jax.jit(render)"
   ]
  },
  {
   "cell_type": "code",
   "execution_count": 172,
   "metadata": {},
   "outputs": [],
   "source": [
    "# pose = Pose.from_position_and_target(\n",
    "#     jnp.array([1.3, 1.5, 0.0]),\n",
    "#     jnp.zeros(3)\n",
    "# ).inv()\n",
    "\n",
    "mixed_image,triangle_ids_patch,normalized_weights = render_jit(gt_pose)\n",
    "rr.log(\"/rgb/reconstruction\", rr.Image(mixed_image), timeless=True)\n"
   ]
  },
  {
   "cell_type": "code",
   "execution_count": 173,
   "metadata": {},
   "outputs": [
    {
     "data": {
      "text/plain": [
       "Array([[    0,     0,     0,     0,     0,     0,     0],\n",
       "       [    0,     0,     0,     0,     0,     0,     0],\n",
       "       [    0,     0,     0,     0,     0,     0,     0],\n",
       "       [    0,     0,     0,     0,     0, 11348, 14065],\n",
       "       [    0,     0,     0,     0, 11235, 13792, 13792],\n",
       "       [    0,     0,     0, 11229, 13805, 13790, 13790],\n",
       "       [    0,     0, 11186, 13745, 13745, 13711, 13784]], dtype=int32)"
      ]
     },
     "execution_count": 173,
     "metadata": {},
     "output_type": "execute_result"
    },
    {
     "ename": "",
     "evalue": "",
     "output_type": "error",
     "traceback": [
      "\u001b[1;31mThe Kernel crashed while executing code in the current cell or a previous cell. \n",
      "\u001b[1;31mPlease review the code in the cell(s) to identify a possible cause of the failure. \n",
      "\u001b[1;31mClick <a href='https://aka.ms/vscodeJupyterKernelCrash'>here</a> for more info. \n",
      "\u001b[1;31mView Jupyter <a href='command:jupyter.viewOutput'>log</a> for further details."
     ]
    }
   ],
   "source": [
    "triangle_ids_patch[20,34]"
   ]
  },
  {
   "cell_type": "code",
   "execution_count": 159,
   "metadata": {},
   "outputs": [
    {
     "name": "stdout",
     "output_type": "stream",
     "text": [
      "(Array(36.9046, dtype=float32), Pose(position=Array([ 0.73913133,  1.5306431 , -0.7605345 ], dtype=float32), quaternion=Array([ 1.4641305 , -0.0424298 ,  0.08400118, -1.1915321 ], dtype=float32)))\n",
      "36.9046\n",
      "36.79632\n",
      "36.81175\n",
      "36.74235\n",
      "36.803078\n",
      "36.815353\n",
      "36.88841\n",
      "36.726166\n",
      "36.725086\n",
      "36.697395\n",
      "36.74521\n",
      "36.788677\n",
      "36.873352\n",
      "36.886784\n",
      "36.80979\n",
      "36.844276\n",
      "36.864563\n",
      "36.925213\n",
      "36.93096\n",
      "36.920807\n",
      "36.95823\n",
      "36.947903\n",
      "36.93476\n",
      "36.87172\n",
      "36.80154\n",
      "36.81649\n",
      "36.745106\n",
      "36.71426\n",
      "36.670208\n",
      "36.665283\n",
      "36.68799\n",
      "36.688618\n",
      "36.629105\n",
      "36.608887\n",
      "36.575424\n",
      "36.520374\n",
      "36.486187\n",
      "36.483585\n",
      "36.42747\n",
      "36.41817\n",
      "36.412933\n",
      "36.388382\n",
      "36.400772\n",
      "36.33639\n",
      "36.35362\n",
      "36.278988\n",
      "36.293106\n",
      "36.290493\n",
      "36.25327\n",
      "36.271286\n",
      "36.172806\n",
      "36.226723\n",
      "36.192474\n",
      "36.20666\n",
      "36.217766\n",
      "36.179432\n",
      "36.2262\n",
      "36.14478\n",
      "36.155922\n",
      "36.144325\n",
      "36.093166\n",
      "36.033974\n",
      "36.012035\n",
      "36.01805\n",
      "35.97001\n",
      "35.953606\n",
      "35.883945\n",
      "35.85473\n",
      "35.84537\n",
      "35.734154\n",
      "35.754444\n",
      "35.710728\n",
      "35.740326\n",
      "35.67199\n",
      "35.70551\n",
      "35.689983\n",
      "35.682835\n",
      "35.63262\n",
      "35.614235\n",
      "35.642967\n",
      "35.556\n",
      "35.588215\n",
      "35.5674\n",
      "35.51017\n",
      "35.542118\n",
      "35.474083\n",
      "35.46547\n",
      "35.416378\n",
      "35.465378\n",
      "35.401196\n",
      "35.425808\n",
      "35.404957\n",
      "35.393036\n",
      "35.323513\n",
      "35.349384\n",
      "35.333008\n",
      "35.32907\n",
      "35.351562\n",
      "35.316475\n",
      "35.270508\n"
     ]
    }
   ],
   "source": [
    "pose = Pose.from_position_and_target(\n",
    "    jnp.array([1.3, 1.1, 0.0]),\n",
    "    jnp.zeros(3)\n",
    ").inv()\n",
    "\n",
    "mixed_image = render_jit(pose)\n",
    "rr.log(\"/rgb/reconstruction\", rr.Image(mixed_image), timeless=True)\n",
    "\n",
    "\n",
    "grad_func = jax.jit(jax.value_and_grad(lambda pose: jnp.linalg.norm(render(pose) - target_image)))\n",
    "print(grad_func(pose))\n",
    "\n",
    "for _ in range(100):\n",
    "    loss, pose_grad = grad_func(pose)\n",
    "    pose = pose - pose_grad * 0.001\n",
    "    print(loss)\n",
    "    mixed_image = render_jit(pose)\n",
    "    rr.log(\"/rgb/reconstruction\", rr.Image(mixed_image), timeless=True)\n",
    "\n"
   ]
  },
  {
   "cell_type": "code",
   "execution_count": 121,
   "metadata": {},
   "outputs": [
    {
     "data": {
      "text/plain": [
       "Pose(position=Array([ 0.05088093, -0.04757963, -0.02065831], dtype=float32), quaternion=Array([-0.00589564, -0.00238853,  0.00535257, -0.00713056], dtype=float32))"
      ]
     },
     "execution_count": 121,
     "metadata": {},
     "output_type": "execute_result"
    }
   ],
   "source": [
    "pose_grad"
   ]
  },
  {
   "cell_type": "code",
   "execution_count": 66,
   "metadata": {},
   "outputs": [
    {
     "ename": "NameError",
     "evalue": "name 'mixed_image' is not defined",
     "output_type": "error",
     "traceback": [
      "\u001b[0;31m---------------------------------------------------------------------------\u001b[0m",
      "\u001b[0;31mNameError\u001b[0m                                 Traceback (most recent call last)",
      "Cell \u001b[0;32mIn[66], line 1\u001b[0m\n\u001b[0;32m----> 1\u001b[0m \u001b[43mmixed_image\u001b[49m(render, pose, \u001b[38;5;241m0\u001b[39m, \u001b[38;5;241m0\u001b[39m)\n",
      "\u001b[0;31mNameError\u001b[0m: name 'mixed_image' is not defined"
     ]
    }
   ],
   "source": [
    "mixed_image = render(render, pose, 0, 0)"
   ]
  },
  {
   "cell_type": "code",
   "execution_count": null,
   "metadata": {},
   "outputs": [],
   "source": []
  },
  {
   "cell_type": "code",
   "execution_count": null,
   "metadata": {},
   "outputs": [],
   "source": []
  }
 ],
 "metadata": {
  "kernelspec": {
   "display_name": "dcolmap",
   "language": "python",
   "name": "python3"
  },
  "language_info": {
   "codemirror_mode": {
    "name": "ipython",
    "version": 3
   },
   "file_extension": ".py",
   "mimetype": "text/x-python",
   "name": "python",
   "nbconvert_exporter": "python",
   "pygments_lexer": "ipython3",
   "version": "3.11.8"
  }
 },
 "nbformat": 4,
 "nbformat_minor": 2
}
