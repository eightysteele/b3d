{
 "cells": [
  {
   "cell_type": "code",
   "execution_count": 1,
   "metadata": {},
   "outputs": [],
   "source": [
    "### Preliminaries ###\n",
    "\n",
    "import jax.numpy as jnp\n",
    "import jax\n",
    "import os\n",
    "import trimesh\n",
    "import b3d\n",
    "from b3d import Pose\n",
    "import rerun as rr\n",
    "import genjax\n",
    "from tqdm import tqdm\n",
    "import demos.differentiable_renderer.likelihood_debugging.demo_utils as du\n",
    "import demos.differentiable_renderer.likelihood_debugging.model as m\n",
    "import demos.differentiable_renderer.likelihood_debugging.likelihoods as l\n",
    "import b3d.differentiable_renderer as r\n",
    "import matplotlib.pyplot as plt\n",
    "import numpy as np\n",
    "\n",
    "# import viser\n",
    "# server = viser.ViserServer()\n",
    "\n",
    "# server.add_mesh_simple(\n",
    "#     name=\"/patch\",\n",
    "#     vertices=np.array(patch_vertices_P),\n",
    "#     faces=np.array(patch_faces),\n",
    "#     # color=np.array(patch_vertex_colors),\n",
    "#     opacity=0.3\n",
    "# )\n",
    "\n"
   ]
  },
  {
   "cell_type": "code",
   "execution_count": 8,
   "metadata": {},
   "outputs": [
    {
     "data": {
      "text/plain": [
       "<module 'demos.differentiable_renderer.likelihood_debugging.demo_utils' from '/home/georgematheos/b3d/demos/differentiable_renderer/likelihood_debugging/demo_utils.py'>"
      ]
     },
     "execution_count": 8,
     "metadata": {},
     "output_type": "execute_result"
    }
   ],
   "source": [
    "import importlib\n",
    "importlib.reload(du)"
   ]
  },
  {
   "cell_type": "code",
   "execution_count": 9,
   "metadata": {},
   "outputs": [],
   "source": [
    "\n",
    "### Preliminaries ###\n",
    "(\n",
    "    renderer,\n",
    "    (observed_rgbds, gt_rots),\n",
    "    ((patch_vertices_P, patch_faces, patch_vertex_colors), X_WP),\n",
    "    X_WC\n",
    ") = du.get_renderer_boxdata_and_patch()\n",
    "\n",
    "\n",
    "# vetex_colors_with_alpha = jnp.concatenate([patch_vertex_colors, 0.3*jnp.ones((patch_vertex_colors.shape[0], 1))], axis=1)\n",
    "# import trimesh\n",
    "# tm = trimesh.Trimesh(\n",
    "#     vertices = patch_vertices_P,\n",
    "#     faces = patch_faces,\n",
    "#     vertex_colors = np.array(vetex_colors_with_alpha)\n",
    "# )\n",
    "# server.add_mesh_trimesh(\n",
    "#     name=\"/patch\",\n",
    "#     mesh=tm\n",
    "# )\n",
    "\n",
    "hyperparams = r.DifferentiableRendererHyperparams(\n",
    "    3, 1e-5, 1e-2, -1\n",
    ")\n",
    "\n",
    "depth_scale = 0.01\n",
    "mindepth = -1.0\n",
    "maxdepth = 2.0\n",
    "likelihood = l.ArgMap(\n",
    "    l.ImageDistFromPixelDist(\n",
    "        l.mixture_of_uniform_and_multi_uniformrgb_laplacedepth,\n",
    "        [True, True, False, False, False]\n",
    "    ),\n",
    "    lambda weights, rgbds: ( renderer.height, renderer.width,\n",
    "                            weights, rgbds, depth_scale, mindepth, maxdepth )\n",
    ")\n",
    "\n",
    "model = m.single_object_model_factory(\n",
    "    renderer,\n",
    "    likelihood,\n",
    "    hyperparams\n",
    ")\n",
    "\n",
    "key = jax.random.PRNGKey(0)\n",
    "trace, weight = model.importance(\n",
    "    key,\n",
    "    genjax.choice_map({\n",
    "        \"pose\": X_WP,\n",
    "        \"camera_pose\": X_WC,\n",
    "        \"observed_rgbd\": observed_rgbds[0]\n",
    "    }),\n",
    "    (patch_vertices_P, patch_faces, patch_vertex_colors, ())\n",
    ")\n",
    "\n",
    "rr.init(\"test\")\n",
    "rr.connect(\"127.0.0.1:8812\")\n",
    "m.rr_log_trace(trace, renderer)\n"
   ]
  },
  {
   "cell_type": "code",
   "execution_count": null,
   "metadata": {},
   "outputs": [],
   "source": []
  },
  {
   "cell_type": "code",
   "execution_count": null,
   "metadata": {},
   "outputs": [],
   "source": []
  },
  {
   "cell_type": "code",
   "execution_count": 14,
   "metadata": {},
   "outputs": [
    {
     "data": {
      "text/plain": [
       "Pose(position=Array([0., 0., 0.], dtype=float32), quaternion=Rotation(quat=Array([0.        , 0.        , 0.80421466, 0.59433895], dtype=float32)))"
      ]
     },
     "execution_count": 14,
     "metadata": {},
     "output_type": "execute_result"
    }
   ],
   "source": []
  },
  {
   "cell_type": "code",
   "execution_count": 26,
   "metadata": {},
   "outputs": [
    {
     "data": {
      "text/plain": [
       "Pose(position=Array([0., 0., 0.], dtype=float32), quaternion=Array([ 0.        ,  0.        ,  0.80421466, -0.59433895], dtype=float32))"
      ]
     },
     "execution_count": 26,
     "metadata": {},
     "output_type": "execute_result"
    }
   ],
   "source": []
  },
  {
   "cell_type": "code",
   "execution_count": 28,
   "metadata": {},
   "outputs": [
    {
     "data": {
      "text/plain": [
       "Pose(position=Array([ 0.05982581, -0.01924825,  0.07019208], dtype=float32), quaternion=Array([ 0.3645516 , -0.60588956,  0.17065172,  0.68620557], dtype=float32))"
      ]
     },
     "execution_count": 28,
     "metadata": {},
     "output_type": "execute_result"
    }
   ],
   "source": []
  },
  {
   "cell_type": "code",
   "execution_count": 3,
   "metadata": {},
   "outputs": [],
   "source": [
    "\n",
    "### Generate image samples ###\n",
    "\n",
    "def generate_image(key):\n",
    "    trace, weight = model.importance(\n",
    "        key,\n",
    "        genjax.choice_map({ \"pose\": X_WP, \"camera_pose\": X_WC }),\n",
    "        (patch_vertices_P, patch_faces, patch_vertex_colors, ())\n",
    "    )\n",
    "    return trace.get_retval()[0]\n",
    "images = jax.vmap(generate_image)(jax.random.split(key, 100))\n",
    "for i, image in enumerate(images):\n",
    "    rr.set_time_sequence(\"image_sample\", i)\n",
    "    rr.log(f\"/image_sample/rgb\", rr.Image(image[:, :, :3]))\n",
    "    rr.log(f\"/image_sample/depth\", rr.DepthImage(image[:, :, 3]))\n",
    "\n"
   ]
  },
  {
   "cell_type": "code",
   "execution_count": 4,
   "metadata": {},
   "outputs": [],
   "source": [
    "### Grid over positions and show samples ###\n",
    "# @jax.jit\n",
    "def importance_from_depth(depth):\n",
    "    pos = jnp.array([depth, X_WP._position[1], X_WP._position[2]])\n",
    "    pose = Pose(pos, X_WP._quaternion)\n",
    "    trace, weight = model.importance(\n",
    "        key,\n",
    "        genjax.choice_map({\n",
    "            \"pose\": pose,\n",
    "            \"camera_pose\": X_WC,\n",
    "            \"observed_rgbd\": observed_rgbds[0]\n",
    "        }),\n",
    "        (patch_vertices_P, patch_faces, patch_vertex_colors, ())\n",
    "    )\n",
    "    return trace, weight\n",
    "\n",
    "# depths = jnp.linspace(0.01, 0.15 1000)\n",
    "# scores = jnp.stack([get_score(d) for d in depths])\n",
    "# plt.plot(depths, scores)"
   ]
  },
  {
   "cell_type": "code",
   "execution_count": null,
   "metadata": {},
   "outputs": [
    {
     "data": {
      "text/plain": [
       "[<matplotlib.lines.Line2D at 0x7f0c38d848e0>]"
      ]
     },
     "execution_count": 53,
     "metadata": {},
     "output_type": "execute_result"
    },
    {
     "data": {
      "image/png": "[encoded data removed]",
      "text/plain": [
       "<Figure size 640x480 with 1 Axes>"
      ]
     },
     "metadata": {},
     "output_type": "display_data"
    }
   ],
   "source": [
    "depths = jnp.linspace(0.01, 0.07, 100)\n",
    "scores = []\n",
    "for (i, depth) in enumerate(depths):\n",
    "    trace, weight = importance_from_depth(depth)\n",
    "    scores.append(weight)\n",
    "    rr.set_time_sequence(\"depth\", i)\n",
    "    m.rr_log_trace(trace, renderer)\n",
    "    rr.log(\"weight11\", rr.Scalar(weight))\n",
    "    rr.log(\"value\", rr.Scalar(depth))\n",
    "\n",
    "plt.plot(depths, scores)"
   ]
  },
  {
   "cell_type": "code",
   "execution_count": 58,
   "metadata": {},
   "outputs": [
    {
     "ename": "TypeError",
     "evalue": "Rotation.from_euler() missing 1 required positional argument: 'angles'",
     "output_type": "error",
     "traceback": [
      "\u001b[0;31m---------------------------------------------------------------------------\u001b[0m",
      "\u001b[0;31mTypeError\u001b[0m                                 Traceback (most recent call last)",
      "Cell \u001b[0;32mIn[58], line 1\u001b[0m\n\u001b[0;32m----> 1\u001b[0m \u001b[43mb3d\u001b[49m\u001b[38;5;241;43m.\u001b[39;49m\u001b[43mRot\u001b[49m\u001b[38;5;241;43m.\u001b[39;49m\u001b[43mfrom_euler\u001b[49m\u001b[43m(\u001b[49m\u001b[43mjnp\u001b[49m\u001b[38;5;241;43m.\u001b[39;49m\u001b[43marray\u001b[49m\u001b[43m(\u001b[49m\u001b[43m[\u001b[49m\u001b[38;5;241;43m0.0\u001b[39;49m\u001b[43m,\u001b[49m\u001b[43m \u001b[49m\u001b[43mjnp\u001b[49m\u001b[38;5;241;43m.\u001b[39;49m\u001b[43mpi\u001b[49m\u001b[43m,\u001b[49m\u001b[43m \u001b[49m\u001b[38;5;241;43m0.0\u001b[39;49m\u001b[43m]\u001b[49m\u001b[43m)\u001b[49m\u001b[43m)\u001b[49m\n",
      "\u001b[0;31mTypeError\u001b[0m: Rotation.from_euler() missing 1 required positional argument: 'angles'"
     ]
    }
   ],
   "source": []
  },
  {
   "cell_type": "code",
   "execution_count": 70,
   "metadata": {},
   "outputs": [],
   "source": [
    "trace, weight = model.importance(\n",
    "    key,\n",
    "    genjax.choice_map({\n",
    "        \"pose\": pose,\n",
    "        \"camera_pose\": X_WC,\n",
    "        \"observed_rgbd\": observed_rgbds[0]\n",
    "    }),\n",
    "    (patch_vertices_P, patch_faces, patch_vertex_colors, ())\n",
    ")"
   ]
  },
  {
   "cell_type": "code",
   "execution_count": 71,
   "metadata": {},
   "outputs": [
    {
     "data": {
      "text/plain": [
       "Array([[ 0.04538996, -0.01814368,  0.05567744],\n",
       "       [ 0.04538996, -0.02101511,  0.05567744],\n",
       "       [ 0.04538996, -0.01814368,  0.05854885],\n",
       "       ...,\n",
       "       [ 0.07403742, -0.0213117 ,  0.08142591],\n",
       "       [ 0.07403742, -0.01843569,  0.08430192],\n",
       "       [ 0.07403742, -0.0213117 ,  0.08430192]], dtype=float32)"
      ]
     },
     "execution_count": 71,
     "metadata": {},
     "output_type": "execute_result"
    }
   ],
   "source": [
    "trace[\"pose\"].apply(trace.get_args()[0])"
   ]
  },
  {
   "cell_type": "code",
   "execution_count": 5,
   "metadata": {},
   "outputs": [],
   "source": [
    "### Grid over positions and show samples ###\n",
    "@jax.jit\n",
    "def importance_from_rot(rot):\n",
    "    r = X_WP.rot * b3d.Rot.from_euler(\"x\", rot, degrees=False)\n",
    "    pose = Pose.from_vec(jnp.concatenate([\n",
    "        X_WP._position, r.as_quat()\n",
    "    ]))\n",
    "    trace, weight = model.importance(\n",
    "        key,\n",
    "        genjax.choice_map({\n",
    "            \"pose\": pose,\n",
    "            \"camera_pose\": X_WC,\n",
    "            \"observed_rgbd\": observed_rgbds[0]\n",
    "        }),\n",
    "        (patch_vertices_P, patch_faces, patch_vertex_colors, ())\n",
    "    )\n",
    "    return trace, weight\n",
    "\n",
    "# depths = jnp.linspace(0.01, 0.15 1000)\n",
    "# scores = jnp.stack([get_score(d) for d in depths])\n",
    "# plt.plot(depths, scores)"
   ]
  },
  {
   "cell_type": "code",
   "execution_count": 94,
   "metadata": {},
   "outputs": [],
   "source": [
    "for i in range(10):\n",
    "    trace, weight = importance_from_rot(jnp.pi * 0.1 * i)\n",
    "\n",
    "    rr.set_time_sequence(\"rot\", i)\n",
    "    m.rr_log_trace(trace, renderer)\n",
    "    rr.log(\"weight\", rr.Scalar(weight))\n",
    "    rr.log(\"value\", rr.Scalar(depth))"
   ]
  },
  {
   "cell_type": "code",
   "execution_count": 10,
   "metadata": {},
   "outputs": [],
   "source": [
    "### Grid over positions and show samples ###\n",
    "@jax.jit\n",
    "def importance_from_rot_2(true_pose, new_y_rot):\n",
    "    r = true_pose.rot * b3d.Rot.from_euler(\"y\", new_y_rot, degrees=False)\n",
    "    pose = Pose.from_vec(jnp.concatenate([\n",
    "        true_pose._position, r.as_quat()\n",
    "    ]))\n",
    "    trace, weight = model.importance(\n",
    "        key,\n",
    "        genjax.choice_map({\n",
    "            \"pose\": pose,\n",
    "            \"camera_pose\": X_WC,\n",
    "            \"observed_rgbd\": observed_rgbds[20]\n",
    "        }),\n",
    "        (patch_vertices_P, patch_faces, patch_vertex_colors, ())\n",
    "    )\n",
    "    return trace, weight\n",
    "\n",
    "# depths = jnp.linspace(0.01, 0.15 1000)\n",
    "# scores = jnp.stack([get_score(d) for d in depths])\n",
    "# plt.plot(depths, scores)"
   ]
  },
  {
   "cell_type": "code",
   "execution_count": 11,
   "metadata": {},
   "outputs": [],
   "source": [
    "# W = world; C = Camera; P0 = patch at time 0; P20 = patch at time 20; B20 = Box\n",
    "R_W_B0 = b3d.Rot.from_matrix(gt_rots[0])\n",
    "R_W_B20 = b3d.Rot.from_matrix(gt_rots[20])\n",
    "\n",
    "X_W_B0 = Pose.from_quat(R_W_B0.as_quat())\n",
    "X_W_B20 = Pose.from_quat(R_W_B20.as_quat())\n",
    "\n",
    "X_W_P0 = X_WP\n",
    "X_P0_B0 = X_W_P0.inv().compose(X_W_B0)\n",
    "X_P_B = X_P0_B0 # This should remain constant\n",
    "\n",
    "X_P0_B20 = X_W_P0.inv().compose(X_W_B20)\n",
    "# X_W_B20 = X_W_P0.compose(X_P0_B20)\n",
    "X_W_P20 = X_W_B20.compose(X_P_B.inv())"
   ]
  },
  {
   "cell_type": "code",
   "execution_count": 12,
   "metadata": {},
   "outputs": [],
   "source": [
    "tr, weight = importance_from_rot_2(X_W_P20, 1.0)"
   ]
  },
  {
   "cell_type": "code",
   "execution_count": 13,
   "metadata": {},
   "outputs": [],
   "source": [
    "m.rr_log_trace(tr, renderer)"
   ]
  },
  {
   "cell_type": "code",
   "execution_count": 14,
   "metadata": {},
   "outputs": [],
   "source": [
    "for i in range(20):\n",
    "    rr.set_time_sequence(\"rot2-2\", i)\n",
    "    tr, weight = importance_from_rot_2(X_W_P20, 2 * jnp.pi * i / 20)\n",
    "    m.rr_log_trace(tr, renderer)\n",
    "    rr.log(\"weight2\", rr.Scalar(weight))"
   ]
  },
  {
   "cell_type": "code",
   "execution_count": null,
   "metadata": {},
   "outputs": [],
   "source": []
  }
 ],
 "metadata": {
  "kernelspec": {
   "display_name": "b3d",
   "language": "python",
   "name": "python3"
  },
  "language_info": {
   "codemirror_mode": {
    "name": "ipython",
    "version": 3
   },
   "file_extension": ".py",
   "mimetype": "text/x-python",
   "name": "python",
   "nbconvert_exporter": "python",
   "pygments_lexer": "ipython3",
   "version": "3.10.14"
  }
 },
 "nbformat": 4,
 "nbformat_minor": 2
}
