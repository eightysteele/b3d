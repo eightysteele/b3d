{
 "cells": [
  {
   "cell_type": "code",
   "execution_count": 1,
   "metadata": {},
   "outputs": [],
   "source": [
    "### Preliminaries ###\n",
    "\n",
    "import jax.numpy as jnp\n",
    "import jax\n",
    "import os\n",
    "import trimesh\n",
    "import b3d\n",
    "from b3d import Pose\n",
    "import rerun as rr\n",
    "import genjax\n",
    "from tqdm import tqdm\n",
    "import demos.differentiable_renderer.likelihood_debugging.demo_utils as du\n",
    "import demos.differentiable_renderer.likelihood_debugging.model as m\n",
    "import demos.differentiable_renderer.likelihood_debugging.likelihoods as l\n",
    "import b3d.differentiable_renderer as r\n",
    "import matplotlib.pyplot as plt\n",
    "import numpy as np\n",
    "\n",
    "# import viser\n",
    "# server = viser.ViserServer()\n",
    "\n",
    "# server.add_mesh_simple(\n",
    "#     name=\"/patch\",\n",
    "#     vertices=np.array(patch_vertices_P),\n",
    "#     faces=np.array(patch_faces),\n",
    "#     # color=np.array(patch_vertex_colors),\n",
    "#     opacity=0.3\n",
    "# )\n",
    "\n"
   ]
  },
  {
   "cell_type": "code",
   "execution_count": 22,
   "metadata": {},
   "outputs": [],
   "source": [
    "\n",
    "### Preliminaries ###\n",
    "(\n",
    "    renderer,\n",
    "    (observed_rgbds, gt_rots),\n",
    "    ((patch_vertices_P, patch_faces, patch_vertex_colors), X_WP),\n",
    "    X_WC\n",
    ") = du.get_renderer_boxdata_and_patch()\n",
    "\n",
    "\n",
    "# vetex_colors_with_alpha = jnp.concatenate([patch_vertex_colors, 0.3*jnp.ones((patch_vertex_colors.shape[0], 1))], axis=1)\n",
    "# import trimesh\n",
    "# tm = trimesh.Trimesh(\n",
    "#     vertices = patch_vertices_P,\n",
    "#     faces = patch_faces,\n",
    "#     vertex_colors = np.array(vetex_colors_with_alpha)\n",
    "# )\n",
    "# server.add_mesh_trimesh(\n",
    "#     name=\"/patch\",\n",
    "#     mesh=tm\n",
    "# )\n",
    "\n",
    "hyperparams = r.DifferentiableRendererHyperparams(\n",
    "    5, 0.4, 0.25, -1\n",
    ")\n",
    "\n",
    "depth_scale = 0.01\n",
    "mindepth = -1.0\n",
    "maxdepth = 2.0\n",
    "likelihood = l.ArgMap(\n",
    "    l.ImageDistFromPixelDist(\n",
    "        l.mixture_of_uniform_and_multi_uniformrgb_laplacedepth,\n",
    "        [True, True, False, False, False]\n",
    "    ),\n",
    "    lambda weights, rgbds: ( renderer.height, renderer.width,\n",
    "                            weights, rgbds, depth_scale, mindepth, maxdepth )\n",
    ")\n",
    "\n",
    "model = m.single_object_model_factory(\n",
    "    renderer,\n",
    "    likelihood,\n",
    "    hyperparams\n",
    ")\n",
    "\n",
    "key = jax.random.PRNGKey(0)\n",
    "trace, weight = model.importance(\n",
    "    key,\n",
    "    genjax.choice_map({\n",
    "        \"pose\": X_WP,\n",
    "        \"camera_pose\": X_WC,\n",
    "        \"observed_rgbd\": observed_rgbds[0]\n",
    "    }),\n",
    "    (patch_vertices_P, patch_faces, patch_vertex_colors, ())\n",
    ")\n",
    "\n",
    "rr.init(\"test\")\n",
    "rr.connect(\"127.0.0.1:8812\")\n",
    "m.rr_log_trace(trace, renderer, )\n"
   ]
  },
  {
   "cell_type": "code",
   "execution_count": 23,
   "metadata": {},
   "outputs": [],
   "source": [
    "\n",
    "### Generate image samples ###\n",
    "\n",
    "def generate_image(key):\n",
    "    trace, weight = model.importance(\n",
    "        key,\n",
    "        genjax.choice_map({ \"pose\": X_WP, \"camera_pose\": X_WC }),\n",
    "        (patch_vertices_P, patch_faces, patch_vertex_colors, ())\n",
    "    )\n",
    "    return trace.get_retval()[0]\n",
    "images = jax.vmap(generate_image)(jax.random.split(key, 100))\n",
    "for i, image in enumerate(images):\n",
    "    rr.set_time_sequence(\"image_sample\", i)\n",
    "    rr.log(f\"/image_sample/rgb\", rr.Image(image[:, :, :3]))\n",
    "    rr.log(f\"/image_sample/depth\", rr.DepthImage(image[:, :, 3]))\n",
    "\n"
   ]
  },
  {
   "cell_type": "code",
   "execution_count": 24,
   "metadata": {},
   "outputs": [],
   "source": [
    "### Grid over positions and show samples ###\n",
    "# @jax.jit\n",
    "def importance_from_depth(depth):\n",
    "    pos = jnp.array([X_WP._position[0], X_WP._position[1], depth])\n",
    "    pose = Pose(pos, X_WP._quaternion)\n",
    "    trace, weight = model.importance(\n",
    "        key,\n",
    "        genjax.choice_map({\n",
    "            \"pose\": pose,\n",
    "            \"camera_pose\": X_WC,\n",
    "            \"observed_rgbd\": observed_rgbds[0]\n",
    "        }),\n",
    "        (patch_vertices_P, patch_faces, patch_vertex_colors, ())\n",
    "    )\n",
    "    return trace, weight\n",
    "\n",
    "# depths = jnp.linspace(0.01, 0.15 1000)\n",
    "# scores = jnp.stack([get_score(d) for d in depths])\n",
    "# plt.plot(depths, scores)"
   ]
  },
  {
   "cell_type": "code",
   "execution_count": 25,
   "metadata": {},
   "outputs": [],
   "source": [
    "depths = jnp.linspace(0.04, 0.045, 100)\n",
    "scores = []\n",
    "for (i, depth) in enumerate(depths):\n",
    "    trace, weight = importance_from_depth(depth)\n",
    "    scores.append(weight)\n",
    "    rr.set_time_sequence(\"depth\", i)\n",
    "    m.rr_log_trace(trace, renderer)\n",
    "    rr.log(\"weight5\", rr.Scalar(weight))\n",
    "    rr.log(\"value\", rr.Scalar(depth))\n",
    "\n",
    "plt.plot(depths, scores)"
   ]
  },
  {
   "cell_type": "code",
   "execution_count": 21,
   "metadata": {},
   "outputs": [
    {
     "data": {
      "text/plain": [
       "Array(5.050376e-05, dtype=float32)"
      ]
     },
     "execution_count": 21,
     "metadata": {},
     "output_type": "execute_result"
    }
   ],
   "source": [
    "depths[1] - depths[0]"
   ]
  },
  {
   "cell_type": "code",
   "execution_count": null,
   "metadata": {},
   "outputs": [],
   "source": []
  }
 ],
 "metadata": {
  "kernelspec": {
   "display_name": "b3d",
   "language": "python",
   "name": "python3"
  },
  "language_info": {
   "codemirror_mode": {
    "name": "ipython",
    "version": 3
   },
   "file_extension": ".py",
   "mimetype": "text/x-python",
   "name": "python",
   "nbconvert_exporter": "python",
   "pygments_lexer": "ipython3",
   "version": "3.10.14"
  }
 },
 "nbformat": 4,
 "nbformat_minor": 2
}
