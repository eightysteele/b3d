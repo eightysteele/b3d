{
 "cells": [
  {
   "cell_type": "code",
   "execution_count": 119,
   "metadata": {},
   "outputs": [],
   "source": [
    "### Preliminaries ###\n",
    "\n",
    "import jax.numpy as jnp\n",
    "import jax\n",
    "import os\n",
    "import trimesh\n",
    "import b3d\n",
    "from b3d import Pose\n",
    "import rerun as rr\n",
    "import genjax\n",
    "from tqdm import tqdm\n",
    "import demos.differentiable_renderer.likelihood_debugging.demo_utils as du\n",
    "import demos.differentiable_renderer.likelihood_debugging.model as m\n",
    "import demos.differentiable_renderer.likelihood_debugging.likelihoods as l\n",
    "import b3d.differentiable_renderer as r\n",
    "import matplotlib.pyplot as plt\n",
    "import numpy as np\n"
   ]
  },
  {
   "cell_type": "code",
   "execution_count": 142,
   "metadata": {},
   "outputs": [],
   "source": [
    "rr.init(\"test2\")\n",
    "rr.connect(\"127.0.0.1:8812\")"
   ]
  },
  {
   "cell_type": "code",
   "execution_count": 121,
   "metadata": {},
   "outputs": [
    {
     "data": {
      "text/plain": [
       "<module 'demos.differentiable_renderer.likelihood_debugging.demo_utils' from '/home/georgematheos/b3d/demos/differentiable_renderer/likelihood_debugging/demo_utils.py'>"
      ]
     },
     "execution_count": 121,
     "metadata": {},
     "output_type": "execute_result"
    }
   ],
   "source": [
    "import importlib\n",
    "importlib.reload(du)"
   ]
  },
  {
   "cell_type": "code",
   "execution_count": 122,
   "metadata": {},
   "outputs": [],
   "source": [
    "(\n",
    "    renderer,\n",
    "    (observed_rgbds, gt_rots),\n",
    "    ((patch_vertices_P, patch_faces, patch_vertex_colors), X_WP),\n",
    "    X_WC\n",
    ") = du.get_renderer_boxdata_and_patch()\n",
    "\n",
    "hyperparams = r.DifferentiableRendererHyperparams(\n",
    "    3, 1e-5, 1e-2, -1\n",
    ")\n",
    "\n",
    "depth_scale = 0.0001\n",
    "color_scale = 0.002\n",
    "mindepth = -1.0\n",
    "maxdepth = 2.0\n",
    "likelihood = l.ArgMap(\n",
    "    l.ImageDistFromPixelDist(\n",
    "        l.uniform_multilaplace_mixture,\n",
    "        [True, True, False, False, False, False]\n",
    "    ),\n",
    "    lambda weights, rgbds: ( renderer.height, renderer.width,\n",
    "                            weights, rgbds, (depth_scale,), (color_scale,), mindepth, maxdepth )\n",
    ")\n",
    "\n",
    "model = m.single_object_model_factory(\n",
    "    renderer,\n",
    "    likelihood,\n",
    "    hyperparams\n",
    ")"
   ]
  },
  {
   "cell_type": "code",
   "execution_count": 123,
   "metadata": {},
   "outputs": [],
   "source": [
    "\n",
    "### Generate image samples ###\n",
    "\n",
    "def generate_image(key):\n",
    "    trace, weight = model.importance(\n",
    "        key,\n",
    "        genjax.choice_map({ \"pose\": X_WP, \"camera_pose\": X_WC }),\n",
    "        (patch_vertices_P, patch_faces, patch_vertex_colors, ())\n",
    "    )\n",
    "    return trace.get_retval()[0]\n",
    "key = jax.random.PRNGKey(0)\n",
    "images = jax.vmap(generate_image)(jax.random.split(key, 100))\n",
    "for i, image in enumerate(images):\n",
    "    rr.set_time_sequence(\"image_sample\", i)\n",
    "    rr.log(f\"/image_sample/rgb\", rr.Image(image[:, :, :3]))\n",
    "    rr.log(f\"/image_sample/depth\", rr.DepthImage(image[:, :, 3]))\n",
    "\n"
   ]
  },
  {
   "cell_type": "code",
   "execution_count": 124,
   "metadata": {},
   "outputs": [],
   "source": [
    "# W = world; C = Camera; P0 = patch at time 0; P20 = patch at time 20; B20 = Box\n",
    "R_W_B0 = b3d.Rot.from_matrix(gt_rots[0])\n",
    "R_W_B20 = b3d.Rot.from_matrix(gt_rots[20])\n",
    "\n",
    "X_W_B0 = Pose.from_quat(R_W_B0.as_quat())\n",
    "X_W_B20 = Pose.from_quat(R_W_B20.as_quat())\n",
    "\n",
    "X_W_P0 = X_WP\n",
    "X_P0_B0 = X_W_P0.inv().compose(X_W_B0)\n",
    "X_P_B = X_P0_B0 # This should remain constant\n",
    "\n",
    "X_P0_B20 = X_W_P0.inv().compose(X_W_B20)\n",
    "# X_W_B20 = X_W_P0.compose(X_P0_B20)\n",
    "X_W_P20 = X_W_B20.compose(X_P_B.inv())"
   ]
  },
  {
   "cell_type": "code",
   "execution_count": 125,
   "metadata": {},
   "outputs": [],
   "source": [
    "# Get frame 19\n",
    "R_W_B19 = b3d.Rot.from_matrix(gt_rots[19])\n",
    "X_W_B19 = Pose.from_quat(R_W_B19.as_quat())\n",
    "X_P0_B19 = X_W_P0.inv().compose(X_W_B19)\n",
    "X_W_P19 = X_W_B19.compose(X_P_B.inv())"
   ]
  },
  {
   "cell_type": "code",
   "execution_count": 126,
   "metadata": {},
   "outputs": [],
   "source": [
    "r = X_W_P20.rot * b3d.Rot.from_euler(\"y\", 0.9, degrees=False)\n",
    "pose_init = Pose.from_vec(jnp.concatenate([\n",
    "    X_W_P20._position, r.as_quat()\n",
    "]))"
   ]
  },
  {
   "cell_type": "code",
   "execution_count": 127,
   "metadata": {},
   "outputs": [],
   "source": [
    "### Grid over positions and show samples ###\n",
    "def importance_from_pos_quat(pos, quat):\n",
    "    pose = Pose.from_vec(jnp.concatenate([pos, quat]))\n",
    "    trace, weight = model.importance(\n",
    "        key,\n",
    "        genjax.choice_map({\n",
    "            \"pose\": pose,\n",
    "            \"camera_pose\": X_WC,\n",
    "            \"observed_rgbd\": observed_rgbds[20]\n",
    "        }),\n",
    "        (patch_vertices_P, patch_faces, patch_vertex_colors, ())\n",
    "    )\n",
    "    return trace, weight\n",
    "\n",
    "def weight_from_pos_quat(pos, quat):\n",
    "    return importance_from_pos_quat(pos, quat)[1]"
   ]
  },
  {
   "cell_type": "code",
   "execution_count": 128,
   "metadata": {},
   "outputs": [
    {
     "data": {
      "text/plain": [
       "(Array([1999.2793 , 3784.2354 , -159.25781], dtype=float32),\n",
       " Array([-430.0289 , -205.71703, -388.1051 ,  157.40657], dtype=float32))"
      ]
     },
     "execution_count": 128,
     "metadata": {},
     "output_type": "execute_result"
    }
   ],
   "source": [
    "grad_jitted_2 = jax.jit(jax.grad(weight_from_pos_quat, argnums=(0, 1,)))\n",
    "grad_jitted_2(pose_init._position, pose_init._quaternion)"
   ]
  },
  {
   "cell_type": "code",
   "execution_count": 129,
   "metadata": {},
   "outputs": [],
   "source": [
    "import optax"
   ]
  },
  {
   "cell_type": "code",
   "execution_count": 130,
   "metadata": {},
   "outputs": [],
   "source": [
    "### This fits position decently ###\n",
    "\n",
    "# pos = pose_init._position - jnp.array([0.01, 0.015, -0.007])\n",
    "# quat = pose_init._quaternion\n",
    "params = {\n",
    "    \"pos\": X_W_P19._position,\n",
    "    \"quat\": X_W_P20.rot.as_quat()\n",
    "}\n",
    "optimizer = optax.adam(learning_rate=2e-4, b1=0.7)#{\"pos\": 1e-6, \"quat\": 1e-4})\n",
    "opt_state = optimizer.init(params)\n",
    "key = jax.random.PRNGKey(40)\n",
    "for i in range(40):\n",
    "    pos, quat = params[\"pos\"], params[\"quat\"]\n",
    "    grad_pos, grad_quat = grad_jitted_2(pos, quat)\n",
    "    updates, opt_state = optimizer.update({\"pos\": -grad_pos, \"quat\": jnp.zeros_like(-grad_quat)}, opt_state)\n",
    "    params = optax.apply_updates(params, updates)\n",
    "    tr, weight = importance_from_pos_quat(params[\"pos\"], params[\"quat\"])\n",
    "    rr.set_time_sequence(\"adam-3\", i)\n",
    "    m.rr_log_trace(tr, renderer)\n",
    "    rr.log(\"weight\", rr.Scalar(weight))"
   ]
  },
  {
   "cell_type": "code",
   "execution_count": 131,
   "metadata": {},
   "outputs": [],
   "source": [
    "## Looks pretty good... ##\n",
    "\n",
    "# pos = pose_init._position - jnp.array([0.01, 0.015, -0.007])\n",
    "# quat = pose_init._quaternion\n",
    "params = {\n",
    "    \"pos\": X_W_P19._position,\n",
    "    \"quat\": X_W_P19._quaternion\n",
    "}\n",
    "optimizer_pos = optax.adam(learning_rate=2e-4, b1=0.7)#{\"pos\": 1e-6, \"quat\": 1e-4})\n",
    "optimizer_quat = optax.adam(learning_rate=4e-3)\n",
    "opt_state_pos = optimizer.init(params[\"pos\"])\n",
    "opt_state_quat = optimizer.init(params[\"quat\"])\n",
    "key = jax.random.PRNGKey(40)\n",
    "for i in range(30):\n",
    "    pos, quat = params[\"pos\"], params[\"quat\"]\n",
    "    grad_pos, grad_quat = grad_jitted_2(pos, quat)\n",
    "    updates_pos, opt_state_pos = optimizer_pos.update(-grad_pos, opt_state_pos)\n",
    "    updates_quat, opt_state_quat = optimizer_quat.update(-grad_quat, opt_state_quat)\n",
    "    params[\"pos\"] = optax.apply_updates(params[\"pos\"], updates_pos)\n",
    "    params[\"quat\"] = optax.apply_updates(params[\"quat\"], updates_quat)\n",
    "    tr, weight = importance_from_pos_quat(params[\"pos\"], params[\"quat\"])\n",
    "    rr.set_time_sequence(\"adam-19to20-2\", i)\n",
    "    m.rr_log_trace(tr, renderer)\n",
    "    rr.log(\"weight\", rr.Scalar(weight))"
   ]
  },
  {
   "cell_type": "code",
   "execution_count": null,
   "metadata": {},
   "outputs": [],
   "source": []
  },
  {
   "cell_type": "code",
   "execution_count": 132,
   "metadata": {},
   "outputs": [],
   "source": [
    "### Try patch tracking ###"
   ]
  },
  {
   "cell_type": "code",
   "execution_count": 133,
   "metadata": {},
   "outputs": [],
   "source": [
    "### Grid over positions and show samples ###\n",
    "def importance_from_pos_quat_v3(pos, quat, timestep):\n",
    "    pose = Pose.from_vec(jnp.concatenate([pos, quat]))\n",
    "    trace, weight = model.importance(\n",
    "        key,\n",
    "        genjax.choice_map({\n",
    "            \"pose\": pose,\n",
    "            \"camera_pose\": X_WC,\n",
    "            \"observed_rgbd\": observed_rgbds[timestep]\n",
    "        }),\n",
    "        (patch_vertices_P, patch_faces, patch_vertex_colors, ())\n",
    "    )\n",
    "    return trace, weight\n",
    "\n",
    "def weight_from_pos_quat_v3(pos, quat, timestep):\n",
    "    return importance_from_pos_quat_v3(pos, quat, timestep)[1]"
   ]
  },
  {
   "cell_type": "code",
   "execution_count": 134,
   "metadata": {},
   "outputs": [],
   "source": [
    "grad_jitted_3 = jax.jit(jax.grad(weight_from_pos_quat_v3, argnums=(0, 1,)))"
   ]
  },
  {
   "cell_type": "code",
   "execution_count": 148,
   "metadata": {},
   "outputs": [],
   "source": [
    "optimizer_pos = optax.adam(learning_rate=1e-4, b1=0.7)\n",
    "optimizer_quat = optax.adam(learning_rate=4e-3)\n",
    "\n",
    "@jax.jit\n",
    "def optimizer_kernel(st, i):\n",
    "    opt_state_pos, opt_state_quat, pos, quat, timestep = st\n",
    "    grad_pos, grad_quat = grad_jitted_3(pos, quat, timestep)\n",
    "    updates_pos, opt_state_pos = optimizer_pos.update(-grad_pos, opt_state_pos)\n",
    "    updates_quat, opt_state_quat = optimizer_quat.update(-grad_quat, opt_state_quat)\n",
    "    pos = optax.apply_updates(pos, updates_pos)\n",
    "    quat = optax.apply_updates(quat, updates_quat)\n",
    "    return (opt_state_pos, opt_state_quat, pos, quat, timestep), (pos, quat)"
   ]
  },
  {
   "cell_type": "code",
   "execution_count": 149,
   "metadata": {},
   "outputs": [],
   "source": [
    "@jax.jit\n",
    "def unfold_20_steps(st):\n",
    "    ret_st, _ = jax.lax.scan(optimizer_kernel, st, jnp.arange(20))\n",
    "    return ret_st\n",
    "\n",
    "@jax.jit\n",
    "def unfold_40_steps(st):\n",
    "    ret_st, _ = jax.lax.scan(optimizer_kernel, st, jnp.arange(40))\n",
    "    return ret_st\n",
    "\n",
    "@jax.jit\n",
    "def unfold_100_steps(st):\n",
    "    ret_st, _ = jax.lax.scan(optimizer_kernel, st, jnp.arange(100))\n",
    "    return ret_st\n",
    "\n",
    "@jax.jit\n",
    "def unfold_300_steps(st):\n",
    "    ret_st, _ = jax.lax.scan(optimizer_kernel, st, jnp.arange(300))\n",
    "    return ret_st\n",
    "\n",
    "@jax.jit\n",
    "def unfold_150_steps(st):\n",
    "    ret_st, _ = jax.lax.scan(optimizer_kernel, st, jnp.arange(150))\n",
    "    return ret_st"
   ]
  },
  {
   "cell_type": "code",
   "execution_count": 150,
   "metadata": {},
   "outputs": [],
   "source": [
    "opt_state_pos = optimizer.init(X_WP._position)\n",
    "opt_state_quat = optimizer.init(X_WP._quaternion)"
   ]
  },
  {
   "cell_type": "code",
   "execution_count": null,
   "metadata": {},
   "outputs": [],
   "source": []
  },
  {
   "cell_type": "code",
   "execution_count": 151,
   "metadata": {},
   "outputs": [],
   "source": [
    "### THIS CELL SUCCESSFULLY TRACKS THE OBJECT THROUGH THE WHOLE VIDEO!! ###\n",
    "\n",
    "opt_state_pos = optimizer.init(X_WP._position)\n",
    "opt_state_quat = optimizer.init(X_WP._quaternion)\n",
    "pos = X_WP._position\n",
    "quat = X_WP._quaternion\n",
    "for timestep in range(30):\n",
    "    opt_state_pos = optimizer.init(pos)\n",
    "    opt_state_quat = optimizer.init(quat)\n",
    "    (opt_state_pos, opt_state_quat, pos, quat, _) = unfold_100_steps(\n",
    "        (opt_state_pos, opt_state_quat, pos, quat, timestep)\n",
    "    )\n",
    "    tr, weight = importance_from_pos_quat_v3(pos, quat, timestep)\n",
    "    rr.set_time_sequence(\"tracking-frameONLY-7\", timestep)\n",
    "    m.rr_log_trace(tr, renderer)"
   ]
  },
  {
   "cell_type": "code",
   "execution_count": 139,
   "metadata": {},
   "outputs": [],
   "source": [
    "opt_state_pos = optimizer.init(X_WP._position)\n",
    "opt_state_quat = optimizer.init(X_WP._quaternion)\n",
    "pos = X_WP._position\n",
    "quat = X_WP._quaternion\n",
    "N_STEPS = 80\n",
    "for timestep in range(10):\n",
    "    opt_state_pos = optimizer.init(pos)\n",
    "    opt_state_quat = optimizer.init(quat)\n",
    "    for i in range(N_STEPS):\n",
    "        (opt_state_pos, opt_state_quat, pos, quat, _), _ = optimizer_kernel(\n",
    "            (opt_state_pos, opt_state_quat, pos, quat, timestep), i\n",
    "        )\n",
    "        tr, weight = importance_from_pos_quat_v3(pos, quat, timestep)\n",
    "        rr.set_time_sequence(\"full_seq-10\", i + timestep * N_STEPS)\n",
    "        m.rr_log_trace(tr, renderer)\n",
    "        rr.log(\"weight\", rr.Scalar(weight))\n",
    "    tr, weight = importance_from_pos_quat_v3(pos, quat, timestep)\n",
    "    rr.set_time_sequence(\"tracking-frame-10\", timestep)\n",
    "    m.rr_log_trace(tr, renderer)"
   ]
  },
  {
   "cell_type": "code",
   "execution_count": null,
   "metadata": {},
   "outputs": [],
   "source": []
  },
  {
   "cell_type": "code",
   "execution_count": null,
   "metadata": {},
   "outputs": [],
   "source": []
  }
 ],
 "metadata": {
  "kernelspec": {
   "display_name": "b3d",
   "language": "python",
   "name": "python3"
  },
  "language_info": {
   "codemirror_mode": {
    "name": "ipython",
    "version": 3
   },
   "file_extension": ".py",
   "mimetype": "text/x-python",
   "name": "python",
   "nbconvert_exporter": "python",
   "pygments_lexer": "ipython3",
   "version": "3.10.14"
  }
 },
 "nbformat": 4,
 "nbformat_minor": 2
}
