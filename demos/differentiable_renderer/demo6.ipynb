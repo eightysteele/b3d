{
 "cells": [
  {
   "cell_type": "code",
   "execution_count": 1,
   "metadata": {},
   "outputs": [],
   "source": [
    "%load_ext autoreload\n",
    "%autoreload 2"
   ]
  },
  {
   "cell_type": "code",
   "execution_count": 13,
   "metadata": {},
   "outputs": [],
   "source": [
    "\n",
    "import jax.numpy as jnp\n",
    "import jax\n",
    "import matplotlib.pyplot as plt\n",
    "import numpy as np\n",
    "import os\n",
    "import trimesh\n",
    "import b3d\n",
    "from jax.scipy.spatial.transform import Rotation as Rot\n",
    "from b3d import Pose\n",
    "import rerun as rr\n",
    "import functools\n",
    "\n",
    "jax.config.update(\"jax_debug_nans\", False)"
   ]
  },
  {
   "cell_type": "code",
   "execution_count": 3,
   "metadata": {},
   "outputs": [],
   "source": [
    "from demos.differentiable_renderer.utils import (\n",
    "    center_and_width_to_vertices_faces_colors, rr_log_gt, ray_from_ij,\n",
    "    fx, fy, cx, cy\n",
    ")\n",
    "from demos.differentiable_renderer.rendering import all_pairs, render, renderer, project_pixel_to_plane\n"
   ]
  },
  {
   "cell_type": "code",
   "execution_count": 16,
   "metadata": {},
   "outputs": [],
   "source": [
    "\n",
    "particle_centers = jnp.array(\n",
    "    [\n",
    "        [0.0, 0.0, 1.0],\n",
    "        [0.2, 0.2, 2.0],\n",
    "        # [0., 0., 5.]\n",
    "    ]\n",
    ")\n",
    "particle_widths = jnp.array([0.1, 0.3])\n",
    "particle_colors = jnp.array(\n",
    "    [\n",
    "        [1.0, 0.0, 0.0],\n",
    "        [0.0, 1.0, 0.0],\n",
    "        # [0.0, 0.0, 1.0]\n",
    "    ]\n",
    ")\n",
    "\n",
    "ij = jnp.array([51, 52])\n",
    "\n",
    "vertices_og, faces, colors, triangle_to_particle_index = jax.vmap(\n",
    "    center_and_width_to_vertices_faces_colors\n",
    ")(jnp.arange(len(particle_centers)), particle_centers, particle_widths, particle_colors)\n",
    "vertices = vertices_og.reshape(-1, 3)\n",
    "faces = faces.reshape(-1, 3)\n",
    "colors = colors.reshape(-1, 3)\n",
    "triangle_to_particle_index = triangle_to_particle_index.reshape(-1)\n",
    "_, _, triangle_id_image, depth_image = renderer.rasterize(\n",
    "    Pose.identity()[None, ...], vertices, faces, jnp.array([[0, len(faces)]])\n",
    ")\n",
    "particle_intersected = triangle_to_particle_index[triangle_id_image - 1] * (triangle_id_image > 0) + -1 * (triangle_id_image ==0 )\n",
    "blank_color = jnp.array([0.1, 0.1, 0.1]) # gray for unintersected particles\n",
    "extended_colors = jnp.concatenate([jnp.array([blank_color]), particle_colors], axis=0)\n",
    "color_image = extended_colors[particle_intersected + 1]\n",
    "triangle_colors = particle_colors[triangle_to_particle_index]\n"
   ]
  },
  {
   "cell_type": "code",
   "execution_count": 18,
   "metadata": {},
   "outputs": [],
   "source": [
    "\n",
    "rr.init(\"softras_5\")\n",
    "rr.connect(\"127.0.0.1:8812\")\n",
    "\n",
    "rr_log_gt(\"gt\", particle_centers, particle_widths, particle_colors)\n",
    "\n",
    "SIGMA = 1e-4\n",
    "GAMMA = 1e-4\n",
    "EPSILON = 1e-5\n",
    "hyperparams = (SIGMA, GAMMA, EPSILON)\n",
    "rendered_soft = render(vertices, faces, triangle_colors, hyperparams)\n",
    "rr.log(\"c/gt\", rr.Image(color_image), timeless=True)\n",
    "rr.log(\"c/rendered\", rr.Image(rendered_soft), timeless=True)\n"
   ]
  },
  {
   "cell_type": "code",
   "execution_count": 22,
   "metadata": {},
   "outputs": [
    {
     "name": "stdout",
     "output_type": "stream",
     "text": [
      "ERROR:\n",
      "62.857605\n",
      "GRAD:\n",
      "[[nan nan nan]\n",
      " [nan nan nan]]\n"
     ]
    }
   ],
   "source": [
    "\n",
    "def compute_error(centers):\n",
    "    rendered = render_from_centers(centers)\n",
    "    return jnp.sum(jnp.abs((rendered - rendered_soft)))\n",
    "\n",
    "def render_from_centers(new_particle_centers):\n",
    "    particle_center_delta  = new_particle_centers - particle_centers\n",
    "    # vertices, faces, colors, triangle_to_particle_index = jax.vmap(\n",
    "    #     center_and_width_to_vertices_faces_colors\n",
    "    # )(jnp.arange(len(new_particle_centers)), new_particle_centers, particle_widths, particle_colors)\n",
    "    # vertices = vertices.reshape(-1, 3)\n",
    "    # faces = faces.reshape(-1, 3)\n",
    "    # triangle_to_particle_index = triangle_to_particle_index.reshape(-1)\n",
    "    new_vertices = vertices_og + jnp.expand_dims(particle_center_delta, 1)\n",
    "    return render(new_vertices.reshape(-1, 3), faces.reshape(-1, 3), particle_colors[triangle_to_particle_index], hyperparams)\n",
    "\n",
    "particle_centers_shifted = jnp.array(\n",
    "    [\n",
    "        [0.05, 0.0, 1.0],\n",
    "        [0.15, 0.2, 2.0],\n",
    "        # [0., 0., 5.]\n",
    "    ]\n",
    ")\n",
    "rendered_shifted = render_from_centers(particle_centers_shifted)\n",
    "rr.log(\"shifted\", rr.Image(rendered_shifted), timeless=True)\n",
    "\n",
    "print(\"ERROR:\")\n",
    "print(compute_error(particle_centers_shifted))\n",
    "print(\"GRAD:\")\n",
    "print(jax.grad(compute_error)(particle_centers_shifted))"
   ]
  },
  {
   "cell_type": "code",
   "execution_count": null,
   "metadata": {},
   "outputs": [],
   "source": []
  },
  {
   "cell_type": "code",
   "execution_count": 23,
   "metadata": {},
   "outputs": [],
   "source": [
    "from demos.differentiable_renderer.rendering import get_pixel_color, WINDOW\n",
    "\n",
    "uvs, _, triangle_id_image, depth_image = renderer.rasterize(\n",
    "    Pose.identity()[None, ...], vertices, faces, jnp.array([[0, len(faces)]])\n",
    ")\n",
    "\n",
    "triangle_intersected_padded = jnp.pad(\n",
    "    triangle_id_image, pad_width=[(WINDOW, WINDOW)], constant_values=-1\n",
    ")\n",
    "particle_center_delta  = particle_centers_shifted - particle_centers\n",
    "vertices_shifted = vertices_og + jnp.expand_dims(particle_center_delta, 1)\n",
    "\n",
    "ij = jnp.array([37, 37])\n",
    "def get_pixel_color_from_vertices(ij, vertices):\n",
    "    return get_pixel_color(\n",
    "        ij, vertices, faces, triangle_colors, triangle_intersected_padded,\n",
    "        hyperparams\n",
    "    ).sum()\n",
    "color = get_pixel_color_from_vertices(ij, vertices_shifted.reshape(-1, 3))\n",
    "# grads = jax.vmap(\n",
    "#     jax.grad(get_pixel_color_from_vertices, argnums=1),\n",
    "#     in_axes=(0, None)\n",
    "# )(all_pairs(100, 100), vertices_shifted.reshape(-1, 3))\n",
    "# isnan_img = jnp.any(jnp.isnan(grads), axis=(1, 2)).reshape(100, 100).astype(float)\n"
   ]
  },
  {
   "cell_type": "code",
   "execution_count": 24,
   "metadata": {},
   "outputs": [
    {
     "data": {
      "text/plain": [
       "Array([[nan, nan, nan],\n",
       "       [nan, nan, nan],\n",
       "       [nan, nan, nan],\n",
       "       [ 0.,  0.,  0.],\n",
       "       [ 0.,  0.,  0.],\n",
       "       [ 0.,  0.,  0.],\n",
       "       [ 0.,  0.,  0.],\n",
       "       [ 0.,  0.,  0.]], dtype=float32)"
      ]
     },
     "execution_count": 24,
     "metadata": {},
     "output_type": "execute_result"
    }
   ],
   "source": [
    "jax.grad(get_pixel_color_from_vertices, argnums=1)(ij, vertices_shifted.reshape(-1, 3))"
   ]
  },
  {
   "cell_type": "code",
   "execution_count": 15,
   "metadata": {},
   "outputs": [
    {
     "data": {
      "text/plain": [
       "(3, 4, 3)"
      ]
     },
     "execution_count": 15,
     "metadata": {},
     "output_type": "execute_result"
    }
   ],
   "source": [
    "vertices_shifted.shape"
   ]
  },
  {
   "cell_type": "code",
   "execution_count": null,
   "metadata": {},
   "outputs": [],
   "source": []
  }
 ],
 "metadata": {
  "kernelspec": {
   "display_name": "b3d",
   "language": "python",
   "name": "python3"
  },
  "language_info": {
   "codemirror_mode": {
    "name": "ipython",
    "version": 3
   },
   "file_extension": ".py",
   "mimetype": "text/x-python",
   "name": "python",
   "nbconvert_exporter": "python",
   "pygments_lexer": "ipython3",
   "version": "3.10.14"
  }
 },
 "nbformat": 4,
 "nbformat_minor": 2
}
